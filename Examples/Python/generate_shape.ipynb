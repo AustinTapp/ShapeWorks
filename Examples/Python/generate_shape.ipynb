{
 "cells": [
  {
   "cell_type": "markdown",
   "metadata": {},
   "source": [
    "\n",
    "# Example of Generating Shape Cohorts with Shapeworks\n"
   ]
  },
  {
   "cell_type": "markdown",
   "metadata": {},
   "source": [
    "### Importing neccesary modules"
   ]
  },
  {
   "cell_type": "code",
   "execution_count": 1,
   "metadata": {},
   "outputs": [],
   "source": [
    "import shapeworks as sw\n",
    "import ShapeCohortGen as sw_gen\n",
    "import itkwidgets\n",
    "import itk\n",
    "import os"
   ]
  },
  {
   "cell_type": "code",
   "execution_count": 2,
   "metadata": {},
   "outputs": [],
   "source": [
    "def sw2itkImage(swImg):\n",
    "    print(swImg)\n",
    "    array = swImg.toArray()\n",
    "    itkImg = itk.GetImageFromArray(array)\n",
    "    return itkImg"
   ]
  },
  {
   "cell_type": "markdown",
   "metadata": {},
   "source": [
    "### Generate Ellipses"
   ]
  },
  {
   "cell_type": "code",
   "execution_count": 3,
   "metadata": {},
   "outputs": [
    {
     "name": "stdout",
     "output_type": "stream",
     "text": [
      "Generating shape 1 out of 3\n",
      "Generating shape 2 out of 3\n",
      "Generating shape 3 out of 3\n",
      "Generating segmentation 0\n",
      "Generating segmentation 1\n",
      "Generating segmentation 2\n",
      "{\n",
      "\tdims: [50, 50, 50],\n",
      "\torigin: [0, 0, 0],\n",
      "\tsize: [50, 50, 50],\n",
      "\tspacing: [1, 1, 1]\n",
      "}\n"
     ]
    },
    {
     "data": {
      "application/vnd.jupyter.widget-view+json": {
       "model_id": "6540d498246b458e9453b9edf47f6869",
       "version_major": 2,
       "version_minor": 0
      },
      "text/plain": [
       "Viewer(geometries=[], gradient_opacity=0.22, point_sets=[], rendered_image=<itk.itkImagePython.itkImageF3; pro…"
      ]
     },
     "metadata": {},
     "output_type": "display_data"
    }
   ],
   "source": [
    "out_dir = \"test/\"\n",
    "supershapes_generator = sw_gen.SupershapesCohortGenerator(out_dir)\n",
    "\n",
    "num_samples = 3\n",
    "m = 3\n",
    "size=50\n",
    "start_id = 0\n",
    "blur_factor = 1\n",
    "generated_dir = supershapes_generator.generate(num_samples, m, size, start_id, blur_factor)\n",
    "gen_shapes = os.listdir(generated_dir)\n",
    "shape0 = sw.Image(generated_dir + gen_shapes[0])\n",
    "itkwidgets.view(sw2itkImage(shape0))"
   ]
  }
 ],
 "metadata": {
  "kernelspec": {
   "display_name": "Python 3",
   "language": "python",
   "name": "python3"
  },
  "language_info": {
   "codemirror_mode": {
    "name": "ipython",
    "version": 3
   },
   "file_extension": ".py",
   "mimetype": "text/x-python",
   "name": "python",
   "nbconvert_exporter": "python",
   "pygments_lexer": "ipython3",
   "version": "3.7.8"
  }
 },
 "nbformat": 4,
 "nbformat_minor": 4
}
