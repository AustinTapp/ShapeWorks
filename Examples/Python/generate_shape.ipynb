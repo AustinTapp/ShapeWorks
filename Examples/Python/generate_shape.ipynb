{
 "cells": [
  {
   "cell_type": "markdown",
   "metadata": {},
   "source": [
    "\n",
    "# Example of Generating Shape Cohorts with Shapeworks\n"
   ]
  },
  {
   "cell_type": "markdown",
   "metadata": {},
   "source": [
    "### Importing neccesary modules"
   ]
  },
  {
   "cell_type": "code",
   "execution_count": 1,
   "metadata": {},
   "outputs": [],
   "source": [
    "import shapeworks as sw\n",
    "import ShapeCohortGen as sw_gen\n",
    "import itkwidgets\n",
    "import itk\n",
    "import os"
   ]
  },
  {
   "cell_type": "code",
   "execution_count": 2,
   "metadata": {},
   "outputs": [],
   "source": [
    "def sw2itkImage(swImg):\n",
    "    print(swImg)\n",
    "    array = swImg.toArray()\n",
    "    itkImg = itk.GetImageFromArray(array)\n",
    "    return itkImg"
   ]
  },
  {
   "cell_type": "markdown",
   "metadata": {},
   "source": [
    "### Generate Ellipses"
   ]
  },
  {
   "cell_type": "code",
   "execution_count": 7,
   "metadata": {},
   "outputs": [
    {
     "name": "stdout",
     "output_type": "stream",
     "text": [
      "Generating shape 1 out of 3\n",
      "Generating shape 2 out of 3\n",
      "Generating shape 3 out of 3\n",
      "Generating segmentation 1\n",
      "Generating segmentation 2\n",
      "Generating segmentation 3\n",
      "{\n",
      "\tdims: [120, 120, 120],\n",
      "\torigin: [0, 0, 0],\n",
      "\tsize: [120, 120, 120],\n",
      "\tspacing: [1, 1, 1]\n",
      "}\n"
     ]
    },
    {
     "data": {
      "application/vnd.jupyter.widget-view+json": {
       "model_id": "8950dc1a62aa4e7d88cd425d7af3285d",
       "version_major": 2,
       "version_minor": 0
      },
      "text/plain": [
       "Viewer(geometries=[], gradient_opacity=0.22, point_sets=[], rendered_image=<itk.itkImagePython.itkImageF3; pro…"
      ]
     },
     "metadata": {},
     "output_type": "display_data"
    }
   ],
   "source": [
    "# Define generator\n",
    "out_dir = \"test/\"\n",
    "supershapes_generator = sw_gen.SupershapesCohortGenerator(out_dir)\n",
    "\n",
    "# Generate supershapes segmentations\n",
    "num_samples = 3\n",
    "m = 3\n",
    "size = 120\n",
    "start_id = 0\n",
    "segs = supershapes_generator.generate(num_samples, m, start_id, size)\n",
    "\n",
    "# View segmentation\n",
    "shape0 = sw.Image(segs[0])\n",
    "itkwidgets.view(sw2itkImage(shape0))"
   ]
  },
  {
   "cell_type": "code",
   "execution_count": 8,
   "metadata": {},
   "outputs": [
    {
     "name": "stdout",
     "output_type": "stream",
     "text": [
      "Generating image 1\n",
      "Generating image 2\n",
      "Generating image 3\n",
      "{\n",
      "\tdims: [120, 120, 120],\n",
      "\torigin: [0, 0, 0],\n",
      "\tsize: [120, 120, 120],\n",
      "\tspacing: [1, 1, 1]\n",
      "}\n"
     ]
    },
    {
     "data": {
      "application/vnd.jupyter.widget-view+json": {
       "model_id": "1f2341b03efe4c0fa38c5de7a3b507ed",
       "version_major": 2,
       "version_minor": 0
      },
      "text/plain": [
       "Viewer(geometries=[], gradient_opacity=0.22, point_sets=[], rendered_image=<itk.itkImagePython.itkImageF3; pro…"
      ]
     },
     "metadata": {},
     "output_type": "display_data"
    }
   ],
   "source": [
    "# Generate corresponding images\n",
    "blur_factor = 1\n",
    "foreground_mean = 180\n",
    "foreground_var = 30\n",
    "background_mean = 80\n",
    "background_var = 30\n",
    "images = supershapes_generator.generate_images(blur_factor, foreground_mean, foreground_var, background_mean, background_var)\n",
    "img0 = sw.Image(images[0])\n",
    "itkwidgets.view(sw2itkImage(img0))"
   ]
  }
 ],
 "metadata": {
  "kernelspec": {
   "display_name": "Python 3",
   "language": "python",
   "name": "python3"
  },
  "language_info": {
   "codemirror_mode": {
    "name": "ipython",
    "version": 3
   },
   "file_extension": ".py",
   "mimetype": "text/x-python",
   "name": "python",
   "nbconvert_exporter": "python",
   "pygments_lexer": "ipython3",
   "version": "3.7.8"
  }
 },
 "nbformat": 4,
 "nbformat_minor": 4
}
