{
 "cells": [
  {
   "cell_type": "markdown",
   "metadata": {},
   "source": [
    "\n",
    "# Example of Generating Shape Cohorts with Shapeworks\n"
   ]
  },
  {
   "cell_type": "markdown",
   "metadata": {},
   "source": [
    "### Importing neccesary modules"
   ]
  },
  {
   "cell_type": "code",
   "execution_count": 10,
   "metadata": {},
   "outputs": [],
   "source": [
    "import shapeworks as sw\n",
    "import ShapeCohortGen as sw_gen\n",
    "import itkwidgets\n",
    "import itk"
   ]
  },
  {
   "cell_type": "code",
   "execution_count": 11,
   "metadata": {},
   "outputs": [],
   "source": [
    "def sw2itkImage(swImg):\n",
    "    print(swImg)\n",
    "    array = swImg.toArray()\n",
    "    itkImg = itk.GetImageFromArray(array)\n",
    "    return itkImg"
   ]
  },
  {
   "cell_type": "markdown",
   "metadata": {},
   "source": [
    "### Generate Ellipses"
   ]
  },
  {
   "cell_type": "code",
   "execution_count": 12,
   "metadata": {},
   "outputs": [
    {
     "name": "stdout",
     "output_type": "stream",
     "text": [
      "Writing cohort to out.\n"
     ]
    }
   ],
   "source": [
    "num_samples = 3\n",
    "ellipsoid_generator = sw_gen.EllipsoidCohortGenerator()\n",
    "ellipsoid_generator.generate()\n",
    "ellipsoid_generator.write_cohort(\"out\")\n",
    "# itkwidgets.view(sw2itkImage(seg0))"
   ]
  }
 ],
 "metadata": {
  "kernelspec": {
   "display_name": "Python 3",
   "language": "python",
   "name": "python3"
  },
  "language_info": {
   "codemirror_mode": {
    "name": "ipython",
    "version": 3
   },
   "file_extension": ".py",
   "mimetype": "text/x-python",
   "name": "python",
   "nbconvert_exporter": "python",
   "pygments_lexer": "ipython3",
   "version": "3.7.8"
  }
 },
 "nbformat": 4,
 "nbformat_minor": 4
}
