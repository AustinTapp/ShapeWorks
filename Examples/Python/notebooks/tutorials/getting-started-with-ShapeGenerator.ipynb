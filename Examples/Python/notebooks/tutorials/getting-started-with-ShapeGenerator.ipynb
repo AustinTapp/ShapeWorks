{
 "cells": [
  {
   "cell_type": "markdown",
   "metadata": {},
   "source": [
    "# Getting Started with Shape Cohort Generator"
   ]
  },
  {
   "cell_type": "markdown",
   "metadata": {},
   "source": [
    "## Before you start!\n",
    "\n",
    "- This notebook assumes that shapeworks conda environment has been activated using `conda activate shapeworks` on the terminal.\n",
    "- See [Setting Up ShapeWorks Environment](setting-up-shapeworks-environment.ipynb) to learn how to set up your environment to start using shapeworks library. Please note, the prerequisite steps will use the same code to setup the environment for this notebook and import `shapeworks` library.\n",
    "\n",
    "\n",
    "## In this notebook, you will learn:\n",
    "\n",
    "1. How to use the `ShapeCohortGenerator` package to generate meshes and segmentation images for <br>\n",
    "   i. Ellipsoids <br>\n",
    "   ii. Supershapes\n",
    "\n",
    "\n",
    "We will also define modular/generic helper functions as we walk through these items to reuse functionalities without duplicating code.\n",
    "\n",
    "\n",
    "## Prerequisites\n",
    "\n",
    "- Setting up `shapeworks` environment. See [Setting Up ShapeWorks Environment](setting-up-shapeworks-environment.ipynb). To avoid code clutter, the `setup_shapeworks_env` function can found in `Examples/Python/setupenv.py` module. \n",
    "- Importing `shapeworks` library. See [Setting Up ShapeWorks Environment](setting-up-shapeworks-environment.ipynb).\n",
    "\n",
    "## Note about shapeworks APIs\n",
    "\n",
    "shapeworks functions are inplace, i.e., `<swObject>.<function>()` applies that function to the `swObject` data. To keep the original data unchanged, you have first to copy it to another variable before applying the function.\n",
    "\n",
    "## Notebook keyboard shortcuts\n",
    "\n",
    "- `Esc + H`: displays a complete list of keyboard shortcuts\n",
    "- `Esc + A`: insert new cell above the current cell\n",
    "- `Esc + B`: insert new cell below the current cell\n",
    "- `Esc + D + D`: delete current cell\n",
    "- `Esc + Z`: undo\n",
    "- `Shift + enter`: run current cell and move to next\n",
    "- To show a function's argument list (i.e., signature), use `(` then `shift-tab`\n",
    "- Use `shift-tab-tab` to show more help for a function\n",
    "- To show the help of a function, use `help(function)` or `function?`\n",
    "- To show all functions supported by an object, use `dot-tab` after the variable name"
   ]
  },
  {
   "cell_type": "markdown",
   "metadata": {},
   "source": [
    "## Prerequisites\n",
    "\n",
    "### Setting up shapeworks environment \n",
    "\n",
    "Here, we will append both your `PYTHONPATH` and your system `PATH` to setup shapeworks environment for this notebook. See [Setting Up ShapeWorks Environment](setting-up-shapeworks-environment.ipynb) for more details.\n",
    "\n",
    "In this notebook, we assume the following.\n",
    "\n",
    "- This notebook is located in `Examples/Python/notebooks/tutorials`\n",
    "- You have built shapeworks in `build` directory within the shapeworks code directory\n",
    "- You have built shapeworks dependencies (using `build_dependencies.sh`) in the same parent directory of shapeworks code"
   ]
  },
  {
   "cell_type": "code",
   "execution_count": null,
   "metadata": {},
   "outputs": [],
   "source": [
    "%%capture\n",
    "# import relevant libraries \n",
    "import sys \n",
    "import os\n",
    "import itkwidgets as itkw\n",
    "import pyvista as pv\n",
    "import numpy\n",
    "import itk\n",
    "# # add parent-parent directory (where setupenv.py is) to python path\n",
    "sys.path.insert(0,'../..')\n",
    "\n",
    "# importing setupenv from Examples/Python\n",
    "\n",
    "import setupenv\n",
    "\n",
    "# indicate the bin directories for shapeworks and its dependencies\n",
    "shapeworks_bin_dir   = \"../../../../build_pybind/bin/\"\n",
    "dependencies_bin_dir = \"../../../../dependencies/install/bin/\"\n",
    "\n",
    "# set up shapeworks environment\n",
    "setupenv.setup_shapeworks_env(shapeworks_bin_dir,  \n",
    "                              dependencies_bin_dir, \n",
    "                              verbose = True)"
   ]
  },
  {
   "cell_type": "markdown",
   "metadata": {},
   "source": [
    "### Importing `shapeworks` library"
   ]
  },
  {
   "cell_type": "code",
   "execution_count": null,
   "metadata": {},
   "outputs": [],
   "source": [
    "# let's import shapeworks library to test whether shapeworks is now set\n",
    "try:\n",
    "    import shapeworks as sw\n",
    "except ImportError:\n",
    "    print('ERROR: shapeworks library failed to import')\n",
    "else:\n",
    "    print('SUCCESS: shapeworks library is successfully imported!!!')"
   ]
  },
  {
   "cell_type": "markdown",
   "metadata": {},
   "source": [
    "### Importing `ShapeCohortGen` library"
   ]
  },
  {
   "cell_type": "code",
   "execution_count": null,
   "metadata": {},
   "outputs": [],
   "source": [
    "# let's import ShapeCohortGen library \n",
    "try:\n",
    "    import ShapeCohortGen\n",
    "except ImportError:\n",
    "    print('ERROR: ShapeCohortGen library failed to import')\n",
    "else:\n",
    "    print('SUCCESS: ShapeCohortGen library is successfully imported!!!')\n"
   ]
  },
  {
   "cell_type": "code",
   "execution_count": null,
   "metadata": {},
   "outputs": [],
   "source": [
    "'''\n",
    "Get files with specific extensions\n",
    "'''\n",
    "def get_file_with_ext(file_list,extension):\n",
    "\n",
    "    extList =[]\n",
    "    for file in file_list:\n",
    "        ext = file.split(\".\")[-1]\n",
    "        if(ext==extension):\n",
    "            extList.append(file)\n",
    "    extList = sorted(extList)\n",
    "    return extList"
   ]
  },
  {
   "cell_type": "markdown",
   "metadata": {},
   "source": [
    "### Shape Cohort Generation Overview\n",
    "This shape cohort generator package is capable of generating ellipsoids and supershapes. To use this package, first a generator is defined, then `generate()` is called which creates shapes in mesh format (both .ply and .vtk). After this has been run segmentations and images can be created from those meshes.\n",
    "\n",
    "Each generator has three functions:\n",
    "1. `generate()` - mesh generation (function specific to generator type)\n",
    "2. `generate_segmentations()` - segmentation generation based on meshes (general function shared by all generator types)\n",
    "3. `generate_images()` - image generation based on segmentations (general function shared by all generator types)\n",
    "\n"
   ]
  },
  {
   "cell_type": "markdown",
   "metadata": {},
   "source": [
    "## Generating Ellipsoid Dataset\n",
    "\n",
    "### 1. Mesh Generation"
   ]
  },
  {
   "cell_type": "markdown",
   "metadata": {},
   "source": [
    "Initialize an ellipsoid cohort generator. The output directory needs to be specified otherwise an output directory will automatically be generated.\n",
    "\n",
    "Arguments:\n",
    "1. `out_dir` - path where the dataset should be saved<br>\n",
    "    Datatype : `string`<br> \n",
    "    Default value : 'current_directory/generated_ellipsoid_cohort/' <br>\n",
    "    <br>"
   ]
  },
  {
   "cell_type": "code",
   "execution_count": null,
   "metadata": {},
   "outputs": [],
   "source": [
    "out_dir = \"../Output/Generated_Ellipsoids/\"\n",
    "ellipsoid_generator = ShapeCohortGen.EllipsoidCohortGenerator(out_dir)"
   ]
  },
  {
   "cell_type": "markdown",
   "metadata": {},
   "source": [
    "For the ellipsoid mesh generation, you can specify the following arguments:\n",
    "1. `num_samples` - number of samples in the cohort(dataset)<br>\n",
    "    Datatype : `int` <br>\n",
    "    Default value : 3 <br>\n",
    "    <br>\n",
    "2. `randomize_center` - randomizes the centers for ellipsoid mesh generation if set to `True`<br>\n",
    "    Datatype : `bool` <br> \n",
    "    Defaut value : `True` <br>\n",
    "    <br>   \n",
    "3. `randomize_rotation` - randomizes the orientation of the ellispoids if set to `True` <br>\n",
    "    Datatype : `bool` <br> \n",
    "    Defaut value : `True`\n",
    "    <br>"
   ]
  },
  {
   "cell_type": "code",
   "execution_count": null,
   "metadata": {},
   "outputs": [],
   "source": [
    "num_samples = 8\n",
    "meshFiles = ellipsoid_generator.generate(num_samples)"
   ]
  },
  {
   "cell_type": "code",
   "execution_count": null,
   "metadata": {},
   "outputs": [],
   "source": [
    "# get all the .vtk files for plotting\n",
    "VTKmeshFiles = get_file_with_ext(meshFiles,'vtk')\n",
    "print(VTKmeshFiles)"
   ]
  },
  {
   "cell_type": "markdown",
   "metadata": {},
   "source": [
    "### 2. Read the  meshes and display them\n",
    "We will then use `shapeworks` Mesh class to load this surface mesh"
   ]
  },
  {
   "cell_type": "code",
   "execution_count": null,
   "metadata": {},
   "outputs": [],
   "source": [
    "%%capture\n",
    "swMeshList = []\n",
    "for i in range(len(VTKmeshFiles)):\n",
    "    shapeMesh = sw.Mesh(VTKmeshFiles[i])\n",
    "    swMeshList.append(shapeMesh)"
   ]
  },
  {
   "cell_type": "markdown",
   "metadata": {},
   "source": [
    "### 3. Visualizing surface mesh using `itkwidgets`\n",
    "\n",
    "[`itkwidgets`](https://github.com/InsightSoftwareConsortium/itkwidgets) is a python library that supports interactive Jupyter widgets to visualize images, point sets, and meshes. \n",
    "\n",
    "`itkwidgets` supports `itk`, `vtk`, and `pyvista` data structures. Hence, to visualize a `shapeworks` mesh, we need first to convert it to a `vtk` mesh. First we will define a helper function for the conversion."
   ]
  },
  {
   "cell_type": "code",
   "execution_count": null,
   "metadata": {},
   "outputs": [],
   "source": [
    "# a helper function that converts shapeworks Mesh object to vtk mesh \n",
    "# TODO: to be modifed when #825 is addressed\n",
    "\n",
    "def sw2vtkMesh(swMesh, verbose = True):\n",
    "    \n",
    "    if verbose:\n",
    "        print('Header information: ')\n",
    "        print(swMesh)\n",
    "\n",
    "    # save mesh\n",
    "    swMesh.write('temp.vtk')\n",
    "\n",
    "    # read mesh into an itk mesh data\n",
    "    vtkMesh = pv.read('temp.vtk')\n",
    "    \n",
    "    # remove the temp mesh file\n",
    "    os.remove('temp.vtk')\n",
    "    \n",
    "    return vtkMesh"
   ]
  },
  {
   "cell_type": "code",
   "execution_count": null,
   "metadata": {},
   "outputs": [],
   "source": [
    "%%capture\n",
    "vtkMeshList = []\n",
    "for i in range(len(swMeshList)):\n",
    "    shapeMesh_vtk = sw2vtkMesh(swMeshList[i],verbose=False)\n",
    "    vtkMeshList.append(shapeMesh_vtk)"
   ]
  },
  {
   "cell_type": "code",
   "execution_count": null,
   "metadata": {},
   "outputs": [],
   "source": [
    "# visualize with axes and auto rotation\n",
    "itkw.view(  geometries       = vtkMeshList, \n",
    "            rotate           = True, # enable auto rotation\n",
    "            axes             = True)"
   ]
  },
  {
   "cell_type": "markdown",
   "metadata": {},
   "source": [
    "### 4. Segmentation Generation\n",
    "For segmentation generation, you can specify the following arguments:\n",
    "\n",
    "1. `randomize_size` - randomize the size of the images to include more background if set to `True`<br>\n",
    "    Datatype : `bool` <br> \n",
    "    Defaut value : `True`\n",
    "    <br>\n",
    "2. `spacing` - set the spacing of the segmentation image <br>\n",
    "    Datatype: `list` <br>\n",
    "    Default value: `[1,1,1]` <br>\n",
    "    <br>\n",
    "3. `allow_on_boundary` - If set to `True`,randomly selects 20% samples and ensure that the shapes are touching two random selected axes out of `[x,y,z]`<br>\n",
    "    Datatype : `bool` <br> \n",
    "    Defaut value : `True`\n",
    "    <br>"
   ]
  },
  {
   "cell_type": "code",
   "execution_count": null,
   "metadata": {},
   "outputs": [],
   "source": [
    "segFiles = ellipsoid_generator.generate_segmentations()"
   ]
  },
  {
   "cell_type": "markdown",
   "metadata": {},
   "source": [
    "### 5. Read segmentation images\n",
    "### Segmentation is just an image data, we will use `shapeworks` Image class to load it"
   ]
  },
  {
   "cell_type": "code",
   "execution_count": null,
   "metadata": {},
   "outputs": [],
   "source": [
    "shapeSeg = sw.Image(segFiles[1])\n",
    "\n",
    "# let's print out header information of this segmentation \n",
    "print('Header information: ')\n",
    "print(shapeSeg)"
   ]
  },
  {
   "cell_type": "markdown",
   "metadata": {},
   "source": [
    "### 6. Visualize Segmentation Image\n",
    "### To visualize our `shapeworks` image, we need first to convert it to a `vtk` data structure., let's add a helper function for this purpose.\n",
    "\n"
   ]
  },
  {
   "cell_type": "code",
   "execution_count": null,
   "metadata": {},
   "outputs": [],
   "source": [
    "# a helper function that converts shapeworks Image object to vtk image\n",
    "def sw2vtkImage(swImg, verbose = True):\n",
    "            \n",
    "    # get the numpy array of the shapeworks image\n",
    "    array  = swImg.toArray()\n",
    "    \n",
    "    # the numpy array needs to be permuted to match the shapeworks image dimensions\n",
    "    array = numpy.transpose(array,(2,1,0))\n",
    "    \n",
    "    # converting a numpy array to a vtk image using pyvista's wrap function\n",
    "    vtkImg = pv.wrap(array)\n",
    "    \n",
    "    if verbose:\n",
    "        print('shapeworks image header information: ')\n",
    "        print(swImg)\n",
    "\n",
    "        print('\\nvtk image header information: ')\n",
    "        print(vtkImg) \n",
    "    \n",
    "    return vtkImg"
   ]
  },
  {
   "cell_type": "code",
   "execution_count": null,
   "metadata": {},
   "outputs": [],
   "source": [
    "def getvtkImages(segs):\n",
    "    vtkImage = []\n",
    "    for i in range(len(segFiles)):\n",
    "        swImg = sw.Image(segs[i])\n",
    "        vtkImage.append(sw2vtkImage(swImg))\n",
    "        # define grid size for two segmentations\n",
    "        grid_rows  = 2\n",
    "        grid_cols  = 4\n",
    "    return vtkImage\n",
    "vtkImages = getvtkImages(segFiles)"
   ]
  },
  {
   "cell_type": "markdown",
   "metadata": {},
   "source": [
    "### Defining `pyvista` plotter\n",
    "\n",
    "Next, we will define a `pyvista` plotter to render multiple windows. The multiple rendering windows will be visualized as a grid of plots."
   ]
  },
  {
   "cell_type": "code",
   "execution_count": null,
   "metadata": {},
   "outputs": [],
   "source": [
    "def add_volume_to_plotter( pvPlotter,      # pyvista plotter\n",
    "                           vtkImg,         # vtk image to be added\n",
    "                           rowIdx, colIdx, # subplot row and column index\n",
    "                           title = None,   # text to be added to the subplot, use None to not show text \n",
    "                           shade_volumes  = True,  # use shading when performing volume rendering\n",
    "                           color_map      = \"coolwarm\", # color map for volume rendering, e.g., 'bone', 'coolwarm', 'cool', 'viridis', 'magma'\n",
    "                           show_axes      = True,  # show a vtk axes widget for each rendering window\n",
    "                           show_bounds    = False, # show volume bounding box\n",
    "                           show_all_edges = True,  # add an unlabeled and unticked box at the boundaries of plot. \n",
    "                           font_size      = 10     # text font size for windows\n",
    "                         ):\n",
    "    \n",
    "    # which subplot to add the volume to\n",
    "    pvPlotter.subplot(rowIdx, colIdx)\n",
    "    \n",
    "    # add the volume\n",
    "    pvPlotter.add_volume(vtkImg, shade = shade_volumes, cmap = color_map)\n",
    "\n",
    "    if show_axes:\n",
    "        pvPlotter.show_axes()\n",
    "\n",
    "    if show_bounds:\n",
    "        pvPlotter.show_bounds(all_edges = show_all_edges)\n",
    "\n",
    "    # add a text to this subplot to indicate which volume is being visualized\n",
    "    if title is not None:\n",
    "        pvPlotter.add_text(title, font_size = font_size)"
   ]
  },
  {
   "cell_type": "markdown",
   "metadata": {},
   "source": [
    "### Defining a helper function\n",
    "\n",
    "Let's define a helper function that adds a segmentation to a `pyvista` plotter."
   ]
  },
  {
   "cell_type": "code",
   "execution_count": null,
   "metadata": {},
   "outputs": [],
   "source": [
    "def plot8segs(segs, vtkImages):\n",
    "    grid_rows = 2\n",
    "    grid_cols = 4\n",
    "    # define parameters that controls the plotter\n",
    "    is_interactive = True  # to enable interactive plots\n",
    "    show_borders   = True  # show borders for each rendering window\n",
    "    shade_volumes  = True  # use shading when performing volume rendering\n",
    "    color_map      = \"coolwarm\" # color map for volume rendering, e.g., 'bone', 'coolwarm', 'cool', 'viridis', 'magma'\n",
    "    show_axes      = True  # show a vtk axes widget for each rendering window\n",
    "    show_bounds    = False # show volume bounding box\n",
    "    show_all_edges = True  # add an unlabeled and unticked box at the boundaries of plot. \n",
    "    font_size      = 10    # text font size for windows\n",
    "    link_views     = True  # link all rendering windows so that they share same camera and axes boundaries\n",
    "    # define the plotter\n",
    "    plotter = pv.Plotter(shape    = (grid_rows, grid_cols),\n",
    "                         notebook = is_interactive, \n",
    "                         border   = show_borders) \n",
    "    for r in range(grid_rows):\n",
    "        for c in range(grid_cols):\n",
    "            index = grid_cols * r + c\n",
    "            index = int(index)\n",
    "\n",
    "            shapeName = segs[index].split(\"/\")[-1].split(\".\")[0]\n",
    "\n",
    "            add_volume_to_plotter( plotter, vtkImages[index],   \n",
    "                           r,c, \n",
    "                           title          = shapeName,\n",
    "                           shade_volumes  = shade_volumes, \n",
    "                           color_map      = color_map,\n",
    "                           show_axes      = show_axes, \n",
    "                           show_bounds    = show_bounds, \n",
    "                           show_all_edges = show_all_edges, \n",
    "                           font_size      = font_size)\n",
    "    #         plotter.show_axes()\n",
    "            plotter.show_bounds()\n",
    "    plotter.link_views() \n",
    "\n",
    "    plotter.show()"
   ]
  },
  {
   "cell_type": "code",
   "execution_count": null,
   "metadata": {},
   "outputs": [],
   "source": [
    "plot8segs(segFiles, vtkImages)"
   ]
  },
  {
   "cell_type": "markdown",
   "metadata": {},
   "source": [
    "### 7. Image Generation - Turning segmentations into non-binary images\n",
    "\n",
    "For the image generation, a Gaussian distribution is used to define foreground and background pixels values and a blur factor is used to blur the boundary with a Gaussian filter. You can specify the following arguments:\n",
    "\n",
    "1. `blur_factor` - size of Gaussian filter to use for boundary blurring <br>\n",
    "    Datatype : `int` <br> \n",
    "    Defaut value : `1`\n",
    "    <br>\n",
    "2. `foreground_mean` - mean of the foreground pixel value distribution <br>\n",
    "    Datatype: `int` <br>\n",
    "    Default value: `180` <br>\n",
    "    <br>\n",
    "3. `foreground_var` - variance of the foreground pixel value distribution <br>\n",
    "    Datatype : `int` <br> \n",
    "    Defaut value : `30`\n",
    "    <br>\n",
    "4. `background_mean` - mean of the background pixel value distribution <br>\n",
    "    Datatype: `int` <br>\n",
    "    Default value: `80` <br>\n",
    "    <br>\n",
    "5. `background_var` - variance of the foreground pixel value distribution <br>\n",
    "    Datatype : `int` <br> \n",
    "    Defaut value : `30`\n",
    "    <br>"
   ]
  },
  {
   "cell_type": "code",
   "execution_count": null,
   "metadata": {},
   "outputs": [],
   "source": [
    "imageFiles = ellipsoid_generator.generate_images()"
   ]
  },
  {
   "cell_type": "markdown",
   "metadata": {},
   "source": [
    "### 8. Visualize generated image\n",
    "Let's compare a segmentation to it's corresponding image."
   ]
  },
  {
   "cell_type": "code",
   "execution_count": null,
   "metadata": {},
   "outputs": [],
   "source": [
    "def sw2itkImage(swImg):\n",
    "    print(swImg)\n",
    "    array = swImg.toArray()\n",
    "    itkImg = itk.GetImageFromArray(array)\n",
    "    return itkImg"
   ]
  },
  {
   "cell_type": "code",
   "execution_count": null,
   "metadata": {},
   "outputs": [],
   "source": [
    "print(\"Segmentation:\")\n",
    "seg0 = sw.Image(segFiles[0])\n",
    "itkw.view(sw2itkImage(seg0))"
   ]
  },
  {
   "cell_type": "code",
   "execution_count": null,
   "metadata": {},
   "outputs": [],
   "source": [
    "print(\"Image:\")\n",
    "img0 = sw.Image(imageFiles[0])\n",
    "itkw.view(sw2itkImage(img0))"
   ]
  },
  {
   "cell_type": "markdown",
   "metadata": {},
   "source": [
    "## Generate Supershapes Dataset\n",
    "SuperShapes are parameterized shapes which have geometry based on a given number of lobes, 'm'."
   ]
  },
  {
   "cell_type": "markdown",
   "metadata": {},
   "source": [
    "### 1. Generate meshes\n",
    "\n",
    "Initialize  SuperShapes cohort generator. The output directory needs to be specified otherwise an output directory will automatically be generated.\n",
    "\n",
    "Argument:\n",
    "1. `out_dir` - path where the dataset should be saved<br>\n",
    "    Datatype : `string`<br> \n",
    "    Default value : 'current_directory/generated_supershapes_cohort/' <br>\n",
    "    <br>\n",
    "\n",
    "Each generator has three functions:\n",
    "1. `generate()` - mesh generation\n",
    "2. `generate_segmentations()` - segmentation generation (based on meshes)\n",
    "3. `generate_images()` - image generation (based on segmentations)"
   ]
  },
  {
   "cell_type": "code",
   "execution_count": null,
   "metadata": {},
   "outputs": [],
   "source": [
    "out_dir = \"../Output/Generated_Supershapes/\"\n",
    "ss_generator = ShapeCohortGen.SupershapesCohortGenerator(out_dir)"
   ]
  },
  {
   "cell_type": "markdown",
   "metadata": {},
   "source": [
    "For the supershapes mesh generation, you can specify the following arguments:\n",
    "1. `num_samples` - number of samples in the cohort(dataset)<br>\n",
    "    Datatype : `int` <br>\n",
    "    Default value : 3 <br>\n",
    "    <br>\n",
    "2. `randomize_center` - randomizes the centers for ellipsoid mesh generation if set to `True`<br>\n",
    "    Datatype : `bool` <br> \n",
    "    Defaut value : `True` <br>\n",
    "    <br>   \n",
    "3. `randomize_rotation` - randomizes the orientation of the ellispoids if set to `True` <br>\n",
    "    Datatype : `bool` <br> \n",
    "    Defaut value : `True`\n",
    "    <br>\n",
    "4. `m` - number of lobes supershapes should have <br>\n",
    "    Datatype : `int` <br>\n",
    "    Default value: `3` <br>\n",
    "    <br>\n",
    "5. `size` - size of meshes (won't be more than 'size' away from center in any direction) <br>\n",
    "    Datatype: `int` <br>\n",
    "    Default value: `20` <br>\n",
    "    <br>"
   ]
  },
  {
   "cell_type": "code",
   "execution_count": null,
   "metadata": {},
   "outputs": [],
   "source": [
    "num_samples = 8\n",
    "meshFiles = ss_generator.generate(num_samples)"
   ]
  },
  {
   "cell_type": "code",
   "execution_count": null,
   "metadata": {},
   "outputs": [],
   "source": [
    "# get all the .vtk files for plotting\n",
    "VTKmeshFiles = get_file_with_ext(meshFiles,'vtk')\n",
    "print(VTKmeshFiles)"
   ]
  },
  {
   "cell_type": "markdown",
   "metadata": {},
   "source": [
    "### 2. Visualize meshes\n",
    "We will then use `shapeworks` Mesh class to load this surface mesh"
   ]
  },
  {
   "cell_type": "code",
   "execution_count": null,
   "metadata": {},
   "outputs": [],
   "source": [
    "swMeshList = []\n",
    "for i in range(len(VTKmeshFiles)):\n",
    "    shapeMesh = sw.Mesh(VTKmeshFiles[i])\n",
    "    swMeshList.append(shapeMesh)"
   ]
  },
  {
   "cell_type": "code",
   "execution_count": null,
   "metadata": {},
   "outputs": [],
   "source": [
    "%%capture\n",
    "vtkMeshList = []\n",
    "for i in range(len(swMeshList)):\n",
    "    shapeMesh_vtk = sw2vtkMesh(swMeshList[i],verbose=False)\n",
    "    vtkMeshList.append(shapeMesh_vtk)"
   ]
  },
  {
   "cell_type": "code",
   "execution_count": null,
   "metadata": {},
   "outputs": [],
   "source": [
    "# visualize with axes and auto rotation\n",
    "itkw.view(  geometries       = vtkMeshList,\n",
    "            rotate           = True, # enable auto rotation\n",
    "            axes             = True)"
   ]
  },
  {
   "cell_type": "markdown",
   "metadata": {},
   "source": [
    "### 3. Segmentation Generation\n",
    "This is data type independent, the options are the same as they were for the ellipsoid."
   ]
  },
  {
   "cell_type": "code",
   "execution_count": null,
   "metadata": {},
   "outputs": [],
   "source": [
    "segFiles = ss_generator.generate_segmentations()"
   ]
  },
  {
   "cell_type": "markdown",
   "metadata": {},
   "source": [
    "### 4. Visualize segmentations"
   ]
  },
  {
   "cell_type": "code",
   "execution_count": null,
   "metadata": {},
   "outputs": [],
   "source": [
    "vtkImages = getvtkImages(segFiles)"
   ]
  },
  {
   "cell_type": "code",
   "execution_count": null,
   "metadata": {},
   "outputs": [],
   "source": [
    "plot8segs(segFiles, vtkImages)"
   ]
  },
  {
   "cell_type": "markdown",
   "metadata": {},
   "source": [
    "### 5. Image generation\n",
    "This is also a standard function and has all the same options as listed before."
   ]
  },
  {
   "cell_type": "code",
   "execution_count": null,
   "metadata": {},
   "outputs": [],
   "source": [
    "imageFiles = ss_generator.generate_images()"
   ]
  },
  {
   "cell_type": "markdown",
   "metadata": {},
   "source": [
    "### 6. Visualize image\n",
    "Let's again compare one segmentation to it's corresponding image."
   ]
  },
  {
   "cell_type": "code",
   "execution_count": null,
   "metadata": {},
   "outputs": [],
   "source": [
    "print(\"Segmentation:\")\n",
    "seg0 = sw.Image(segFiles[0])\n",
    "itkw.view(sw2itkImage(seg0))"
   ]
  },
  {
   "cell_type": "code",
   "execution_count": null,
   "metadata": {},
   "outputs": [],
   "source": [
    "print(\"Image:\")\n",
    "img0 = sw.Image(imageFiles[0])\n",
    "itkw.view(sw2itkImage(img0))"
   ]
  }
 ],
 "metadata": {
  "kernelspec": {
   "display_name": "Python 3",
   "language": "python",
   "name": "python3"
  },
  "language_info": {
   "codemirror_mode": {
    "name": "ipython",
    "version": 3
   },
   "file_extension": ".py",
   "mimetype": "text/x-python",
   "name": "python",
   "nbconvert_exporter": "python",
   "pygments_lexer": "ipython3",
   "version": "3.7.8"
  }
 },
 "nbformat": 4,
 "nbformat_minor": 4
}
