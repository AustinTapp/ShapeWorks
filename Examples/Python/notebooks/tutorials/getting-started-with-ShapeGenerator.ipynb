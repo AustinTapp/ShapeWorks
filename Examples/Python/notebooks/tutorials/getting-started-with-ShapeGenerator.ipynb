{
 "cells": [
  {
   "cell_type": "markdown",
   "metadata": {},
   "source": [
    "# Getting Started with Shape Cohort Generator"
   ]
  },
  {
   "cell_type": "markdown",
   "metadata": {},
   "source": [
    "## Before you start!\n",
    "\n",
    "- This notebook assumes that shapeworks conda environment has been activated using `conda activate shapeworks` on the terminal.\n",
    "- See [Setting Up ShapeWorks Environment](setting-up-shapeworks-environment.ipynb) to learn how to set up your environment to start using shapeworks library. Please note, the prerequisite steps will use the same code to setup the environment for this notebook and import `shapeworks` library.\n",
    "\n",
    "\n",
    "## In this notebook, you will learn:\n",
    "\n",
    "1. How to use the `ShapeCohortGenerator` package to generate meshes and segmentation images for <br>\n",
    "   i. Ellipsoids <br>\n",
    "   ii. Supershapes\n",
    "\n",
    "\n",
    "We will also define modular/generic helper functions as we walk through these items to reuse functionalities without duplicating code.\n",
    "\n",
    "\n",
    "## Prerequisites\n",
    "\n",
    "- Setting up `shapeworks` environment. See [Setting Up ShapeWorks Environment](setting-up-shapeworks-environment.ipynb). To avoid code clutter, the `setup_shapeworks_env` function can found in `Examples/Python/setupenv.py` module. \n",
    "- Importing `shapeworks` library. See [Setting Up ShapeWorks Environment](setting-up-shapeworks-environment.ipynb).\n",
    "\n",
    "## Note about shapeworks APIs\n",
    "\n",
    "shapeworks functions are inplace, i.e., `<swObject>.<function>()` applies that function to the `swObject` data. To keep the original data unchanged, you have first to copy it to another variable before applying the function.\n",
    "\n",
    "## Notebook keyboard shortcuts\n",
    "\n",
    "- `Esc + H`: displays a complete list of keyboard shortcuts\n",
    "- `Esc + A`: insert new cell above the current cell\n",
    "- `Esc + B`: insert new cell below the current cell\n",
    "- `Esc + D + D`: delete current cell\n",
    "- `Esc + Z`: undo\n",
    "- `Shift + enter`: run current cell and move to next\n",
    "- To show a function's argument list (i.e., signature), use `(` then `shift-tab`\n",
    "- Use `shift-tab-tab` to show more help for a function\n",
    "- To show the help of a function, use `help(function)` or `function?`\n",
    "- To show all functions supported by an object, use `dot-tab` after the variable name"
   ]
  },
  {
   "cell_type": "markdown",
   "metadata": {},
   "source": [
    "## Prerequisites\n",
    "\n",
    "### Setting up shapeworks environment \n",
    "\n",
    "Here, we will append both your `PYTHONPATH` and your system `PATH` to setup shapeworks environment for this notebook. See [Setting Up ShapeWorks Environment](setting-up-shapeworks-environment.ipynb) for more details.\n",
    "\n",
    "In this notebook, we assume the following.\n",
    "\n",
    "- This notebook is located in `Examples/Python/notebooks/tutorials`\n",
    "- You have built shapeworks in `build` directory within the shapeworks code directory\n",
    "- You have built shapeworks dependencies (using `build_dependencies.sh`) in the same parent directory of shapeworks code"
   ]
  },
  {
   "cell_type": "code",
   "execution_count": null,
   "metadata": {},
   "outputs": [],
   "source": [
    "# import relevant libraries \n",
    "import sys \n",
    "import os\n",
    "import itkwidgets as itkw\n",
    "import pyvista as pv\n",
    "# add parent-parent directory (where setupenv.py is) to python path\n",
    "sys.path.insert(0,'../..')\n",
    "\n",
    "# importing setupenv from Examples/Python\n",
    "\n",
    "import setupenv\n",
    "\n",
    "# indicate the bin directories for shapeworks and its dependencies\n",
    "shapeworks_bin_dir   = \"/home/sci/iyerkrithika/ShapeWorks/build_gs/bin\"\n",
    "dependencies_bin_dir = \"/home/sci/iyerkrithika/ShapeWorks/dependencies/install/bin\"\n",
    "\n",
    "# set up shapeworks environment\n",
    "setupenv.setup_shapeworks_env(shapeworks_bin_dir,  \n",
    "                              dependencies_bin_dir, \n",
    "                              verbose = True)"
   ]
  },
  {
   "cell_type": "markdown",
   "metadata": {},
   "source": [
    "### Importing `shapeworks` library"
   ]
  },
  {
   "cell_type": "code",
   "execution_count": null,
   "metadata": {},
   "outputs": [],
   "source": [
    "# let's import shapeworks library to test whether shapeworks is now set\n",
    "try:\n",
    "    import shapeworks as sw\n",
    "except ImportError:\n",
    "    print('ERROR: shapeworks library failed to import')\n",
    "else:\n",
    "    print('SUCCESS: shapeworks library is successfully imported!!!')"
   ]
  },
  {
   "cell_type": "markdown",
   "metadata": {},
   "source": [
    "### Importing `ShapeCohortGen` library"
   ]
  },
  {
   "cell_type": "code",
   "execution_count": null,
   "metadata": {},
   "outputs": [],
   "source": [
    "# let's import ShapeCohortGen library \n",
    "try:\n",
    "    import ShapeCohortGen\n",
    "except ImportError:\n",
    "    print('ERROR: ShapeCohortGen library failed to import')\n",
    "else:\n",
    "    print('SUCCESS: ShapeCohortGen library is successfully imported!!!')\n"
   ]
  },
  {
   "cell_type": "markdown",
   "metadata": {},
   "source": [
    "### Defining a helper function\n",
    "\n",
    "As converting between shapeworks Mesh object and vtk mesh is a step that we will need frequently, let's add a helper function for this purpose."
   ]
  },
  {
   "cell_type": "code",
   "execution_count": null,
   "metadata": {},
   "outputs": [],
   "source": [
    "# a helper function that converts shapeworks Mesh object to vtk mesh \n",
    "# TODO: to be modifed when #825 is addressed\n",
    "\n",
    "\n",
    "def sw2vtkMesh(swMesh, verbose = True):\n",
    "    \n",
    "    if verbose:\n",
    "        print('Header information: ')\n",
    "        print(swMesh)\n",
    "\n",
    "    # save mesh\n",
    "    swMesh.write('temp.vtk')\n",
    "\n",
    "    # read mesh into an itk mesh data\n",
    "    vtkMesh = pv.read('temp.vtk')\n",
    "    \n",
    "    # remove the temp mesh file\n",
    "    os.remove('temp.vtk')\n",
    "    \n",
    "    return vtkMesh"
   ]
  },
  {
   "cell_type": "markdown",
   "metadata": {},
   "source": [
    "### Need to add more info here\n",
    "This shape cohort generator package is capable of generating ellipsoids and supershapes. This package generates the meshes first and then generates segmentaion images for the corresponding meshes. \n",
    "\n"
   ]
  },
  {
   "cell_type": "markdown",
   "metadata": {},
   "source": [
    "## 1. Generating Ellipsoid Dataset\n",
    "\n",
    "### 1. Mesh Generation"
   ]
  },
  {
   "cell_type": "markdown",
   "metadata": {},
   "source": [
    "Initialize an ellipsoid cohort generator"
   ]
  },
  {
   "cell_type": "code",
   "execution_count": null,
   "metadata": {},
   "outputs": [],
   "source": [
    "ellipsoid_generator = ShapeCohortGen.EllipsoidCohortGenerator()"
   ]
  },
  {
   "cell_type": "markdown",
   "metadata": {},
   "source": [
    "Each generator has two functions:\n",
    "1. `generate()` - mesh generation\n",
    "2. `generate_segmentations()` - segmentation generation\n",
    "The mesh generation fuction has to be called first before generating segmentations"
   ]
  },
  {
   "cell_type": "markdown",
   "metadata": {},
   "source": [
    "### For the ellipsoid mesh generation, you can specify the following arguments:\n",
    "1. `num_samples` - number of samples in the cohort(dataset)<br>\n",
    "    Datatype : `int` <br>\n",
    "    <br>\n",
    "2. `out_dir` - path where the dataset should be saved<br>\n",
    "    Datatype : `string`<br> \n",
    "    <br>\n",
    "    \n",
    "3. `randomize_center` - randomizes the centers for ellipsoid mesh generation if set to `True`<br>\n",
    "    Datatype : `bool` <br> \n",
    "    Defaut value : `True`\n",
    "    <br>\n",
    "4. `randomize_rotation` - randomizes the orientation of the ellispoids if set to `True` <br>\n",
    "    Datatype : `bool` <br> \n",
    "    Defaut value : `True`\n",
    "    <br>"
   ]
  },
  {
   "cell_type": "markdown",
   "metadata": {},
   "source": [
    "# out_dir does not work ?"
   ]
  },
  {
   "cell_type": "code",
   "execution_count": null,
   "metadata": {},
   "outputs": [],
   "source": [
    "num_samples = 15\n",
    "out_dir = '../out/'\n",
    "meshFiles = ellipsoid_generator.generate(num_samples,out_dir)"
   ]
  },
  {
   "cell_type": "markdown",
   "metadata": {},
   "source": [
    "# Does not work with .ply files\n",
    "Read a few meshes and display them"
   ]
  },
  {
   "cell_type": "code",
   "execution_count": null,
   "metadata": {},
   "outputs": [],
   "source": [
    "vtkMeshList = []\n",
    "for i in range(len(meshFiles)):\n",
    "    shapeMesh_vtk = sw2vtkMesh(sw.Mesh(meshFiles[i]),verbose=False)\n",
    "    vtkMeshList.append(shapeMesh_vtk)\n",
    "    \n",
    "    \n",
    "    \n",
    "# visualize with axes and auto rotation\n",
    "itkw.view(  geometries       = vtkMeshList, \n",
    "            rotate           = True, # enable auto rotation\n",
    "            axes             = True)"
   ]
  },
  {
   "cell_type": "markdown",
   "metadata": {},
   "source": [
    "### 2. Segmentation Generation\n",
    "\n",
    "### For the ellipsoid mesh generation, you can specify the following arguments:\n",
    "\n",
    "1. `meshList` - List of meshes to be rasterized for segmentation image generation. This is returned by the `generate` function (see above)\n",
    "<br>\n",
    "\n",
    "2. `out_dir` - path where the dataset should be saved<br>\n",
    "    Datatype : `string`<br> \n",
    "    <br>\n",
    "3. `randomize_size` - randomize the size of the images to include more background if set to `True`<br>\n",
    "    Datatype : `bool` <br> \n",
    "    Defaut value : `True`\n",
    "    <br>\n",
    "4. `spacing` - ADD INFO\n",
    "    <br>\n",
    "5. `allow_on_boundary` - If set to `True`,randomly selects 20% samples and ensure that the shapes are touching two random selected axes out of `[x,y,z]`<br>\n",
    "    Datatype : `bool` <br> \n",
    "    Defaut value : `True`\n",
    "    <br>"
   ]
  },
  {
   "cell_type": "code",
   "execution_count": null,
   "metadata": {},
   "outputs": [],
   "source": [
    "segFiles = ellipsoid_generator.generate_segmentations(out_dir)"
   ]
  },
  {
   "cell_type": "markdown",
   "metadata": {},
   "source": [
    "## Discuss how to visualize segs and meshes  #TODO"
   ]
  }
 ],
 "metadata": {
  "kernelspec": {
   "display_name": "Python 3",
   "language": "python",
   "name": "python3"
  },
  "language_info": {
   "codemirror_mode": {
    "name": "ipython",
    "version": 3
   },
   "file_extension": ".py",
   "mimetype": "text/x-python",
   "name": "python",
   "nbconvert_exporter": "python",
   "pygments_lexer": "ipython3",
   "version": "3.7.8"
  }
 },
 "nbformat": 4,
 "nbformat_minor": 4
}
