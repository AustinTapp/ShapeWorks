{
 "cells": [
  {
   "cell_type": "markdown",
   "id": "85f01b21",
   "metadata": {},
   "source": [
    "# Getting Started with Segmentations\n",
    "\n",
    "## In this notebook the following operations will be demonstrated:\n",
    "\n",
    "1. Login and establish session to access the portal\n",
    "2. List the datasets available on the portal\n",
    "3. Upload a dataset\n",
    "4. Access and download a dataset \n",
    "5. Delete a dataset\n"
   ]
  },
  {
   "cell_type": "code",
   "execution_count": null,
   "id": "f466ed80",
   "metadata": {},
   "outputs": [],
   "source": [
    "import shapeworks as sw\n",
    "from shutil import rmtree\n",
    "from pathlib import Path"
   ]
  },
  {
   "cell_type": "code",
   "execution_count": null,
   "id": "6cd2e021",
   "metadata": {},
   "outputs": [],
   "source": [
    "from swcc.api import swcc_session\n",
    "from swcc.models import Dataset\n",
    "from swcc.models import (\n",
    "    Dataset, GroomedSegmentation, OptimizedParticles,\n",
    "    OptimizedShapeModel, Project, Segmentation, Subject\n",
    ")"
   ]
  },
  {
   "cell_type": "markdown",
   "id": "52ca00f6",
   "metadata": {},
   "source": [
    "## Establish session and list the available datasets"
   ]
  },
  {
   "cell_type": "code",
   "execution_count": null,
   "id": "976aab0a",
   "metadata": {},
   "outputs": [],
   "source": [
    "#api as a context manager\n",
    "with swcc_session()  as session:\n",
    "    token = session.login('iyerkrithika21@gmail.com', 'ilovegirder')\n",
    "    session = swcc_session(token=token).__enter__()\n",
    "    print([(d.id, d.name) for d in Dataset.list()])"
   ]
  },
  {
   "cell_type": "code",
   "execution_count": null,
   "id": "534800f5",
   "metadata": {},
   "outputs": [],
   "source": [
    "# For development, it is possible to generate a session outside of a context manager.\n",
    "ctx = swcc_session(token=token)\n",
    "session = ctx.__enter__()\n",
    "print([(d.id, d.name) for d in Dataset.list()])"
   ]
  },
  {
   "cell_type": "markdown",
   "id": "b6c1787d",
   "metadata": {},
   "source": [
    "## Upload a datset\n",
    "In order to upload the a dataset you need:\n",
    "1. Segmentations/Images/Meshes \n",
    "2. Data file (xlxs)<br>\n",
    "   a. One column each for segmentation/images/meshes\n",
    "   b. The sheet has to be named -'data'\n",
    "3. Project file (xlxs)-This is same the projct file used by ShapeWorksStudio<br>\n",
    "\n",
    "\n"
   ]
  },
  {
   "cell_type": "code",
   "execution_count": null,
   "id": "484db79e",
   "metadata": {},
   "outputs": [],
   "source": [
    "dataset = Dataset(\n",
    "        name='ellipsoid_test',\n",
    "        license='Users should acknowledge that the collection and processing of these images was supported by the National Institutes of Health',\n",
    "        description='Unaligned ellipsoids that vary along the x-axis. \\\n",
    "                     These ellipsoids have randomized size, center, rotation, and x radii.\\\n",
    "                     Images and segmentation have spacing [1,1,2]',\n",
    "        acknowledgement='NIH')\n",
    "\n",
    "dataset.create()\n",
    "data = dataset.load_data_spreadsheet(Path('../Output/ellipsoid/data.xlsx'))\n",
    "project = dataset.add_project(Path('../Output/ellipsoid/project.xlsx'))\n"
   ]
  },
  {
   "cell_type": "markdown",
   "id": "2ae8002a",
   "metadata": {},
   "source": [
    "## We can also explore the data using the models"
   ]
  },
  {
   "cell_type": "markdown",
   "id": "dacbe88e",
   "metadata": {},
   "source": [
    "<h3>**How to add the anatomy type and how to address the other sheets from the project file?"
   ]
  },
  {
   "cell_type": "code",
   "execution_count": null,
   "id": "e2bd0543",
   "metadata": {},
   "outputs": [],
   "source": [
    "segmentation = next(data.segmentations)\n",
    "print(f'Anatomy type: {segmentation.anatomy_type}') \n",
    "\n",
    "shape_models = next(project.shape_models)\n",
    "shape_models.parameters"
   ]
  },
  {
   "cell_type": "code",
   "execution_count": null,
   "id": "88d1b46d",
   "metadata": {},
   "outputs": [],
   "source": [
    "#access individual parameters of shape model\n",
    "print(\"Number of particles\", shape_models.parameters[\"number_of_particles\"])\n",
    "print(\"Narrow band \", shape_models.parameters[\"narrow_band\"])\n",
    "print(\"Use normals \", shape_models.parameters[\"use_normals\"])"
   ]
  },
  {
   "cell_type": "markdown",
   "id": "f1acb36d",
   "metadata": {},
   "source": [
    "## Given an ID, fetch data from the server\n",
    "\n",
    "<h3>How to access shape files?**"
   ]
  },
  {
   "cell_type": "code",
   "execution_count": null,
   "id": "1d082a81",
   "metadata": {},
   "outputs": [],
   "source": [
    "print([(d.id, d.name) for d in Dataset.list()])"
   ]
  },
  {
   "cell_type": "code",
   "execution_count": null,
   "id": "f65efea3",
   "metadata": {},
   "outputs": [],
   "source": [
    "dataset_id = 56\n",
    "Dataset.from_id(dataset_id)"
   ]
  },
  {
   "cell_type": "markdown",
   "id": "dde15e47",
   "metadata": {},
   "source": [
    "## Delete a dataset"
   ]
  },
  {
   "cell_type": "code",
   "execution_count": null,
   "id": "75bb956d",
   "metadata": {},
   "outputs": [],
   "source": [
    "# dataset = Dataset.from_name('ellipsoid8_3')\n",
    "# dataset.delete()\n",
    "# print([(d.id, d.name) for d in Dataset.list()])"
   ]
  },
  {
   "cell_type": "markdown",
   "id": "a0287b84",
   "metadata": {},
   "source": [
    "## Download a dataset"
   ]
  },
  {
   "cell_type": "code",
   "execution_count": null,
   "id": "444422bd",
   "metadata": {},
   "outputs": [],
   "source": [
    "# Download a full dataset in bulk\n",
    "dataset = Dataset.from_name('ellipsoid_test')\n",
    "download_path = Path('../Output/downloads/ellipsoid/')\n",
    "if download_path.exists():\n",
    "    rmtree(str(download_path))\n",
    "    \n",
    "dataset.download(download_path)"
   ]
  },
  {
   "cell_type": "markdown",
   "id": "69aef12a",
   "metadata": {},
   "source": [
    "<h3>Not clear how to use this ? **"
   ]
  },
  {
   "cell_type": "code",
   "execution_count": null,
   "id": "17c31e2b",
   "metadata": {},
   "outputs": [],
   "source": [
    "# We can also explore the data using the models\n",
    "segmentation = next(subject.segmentations)\n",
    "print(f'Anatomy type: {segmentation.anatomy_type}')\n",
    "\n",
    "shape_models = next(project.shape_models)\n",
    "shape_models.parameters\n",
    "\n",
    "\n",
    "\n",
    "# The entities contain urls to download the associated files\n",
    "print('Download url:')\n",
    "print(segmentation.file.url)\n",
    "\n",
    "print('')\n",
    "\n",
    "# There is a helper method to download the file to a provided path\n",
    "print(f\"Downloaded {segmentation.file.download('downloads')}...\")\n",
    "\n",
    "print('')\n",
    "\n",
    "# There is also a helper method on models to download all files attached to them\n",
    "groomed = next(project.groomed_segmentations)\n",
    "for download in groomed.download_files('downloads/groomed'):\n",
    "    print(f'Downloaded {download}...')\n",
    "\n"
   ]
  }
 ],
 "metadata": {
  "kernelspec": {
   "display_name": "Python 3",
   "language": "python",
   "name": "python3"
  },
  "language_info": {
   "codemirror_mode": {
    "name": "ipython",
    "version": 3
   },
   "file_extension": ".py",
   "mimetype": "text/x-python",
   "name": "python",
   "nbconvert_exporter": "python",
   "pygments_lexer": "ipython3",
   "version": "3.7.8"
  },
  "toc": {
   "base_numbering": 1,
   "nav_menu": {},
   "number_sections": true,
   "sideBar": true,
   "skip_h1_title": false,
   "title_cell": "Table of Contents",
   "title_sidebar": "Contents",
   "toc_cell": false,
   "toc_position": {},
   "toc_section_display": true,
   "toc_window_display": false
  }
 },
 "nbformat": 4,
 "nbformat_minor": 5
}
