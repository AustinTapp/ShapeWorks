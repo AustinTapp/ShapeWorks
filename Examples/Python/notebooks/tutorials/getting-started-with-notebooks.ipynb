{
 "cells": [
  {
   "cell_type": "markdown",
   "id": "musical-buying",
   "metadata": {},
   "source": [
    "#  Getting Started with Jupyter Notebooks"
   ]
  },
  {
   "cell_type": "markdown",
   "id": "obvious-trout",
   "metadata": {},
   "source": [
    "## In this notebook, you will find:\n",
    "\n",
    "1. Basics shortcuts for Jupyter notebooks\n",
    "2. Resources to help you with notebooks"
   ]
  },
  {
   "cell_type": "markdown",
   "id": "parliamentary-emerald",
   "metadata": {},
   "source": [
    "## Notebook keyboard shortcuts\n",
    "\n",
    "- `Esc + H`: displays a complete list of keyboard shortcuts\n",
    "- `Esc + A`: insert new cell above the current cell\n",
    "- `Esc + B`: insert new cell below the current cell\n",
    "- `Esc + D + D`: delete current cell\n",
    "- `Esc + Z`: undo\n",
    "- `Shift + enter`: run current cell and move to next\n",
    "- To show a function's argument list (i.e., signature), use `(` then `shift-tab`\n",
    "- Use `shift-tab-tab` to show more help for a function\n",
    "- To show the help of a function, use `help(function)` or `function?`\n",
    "- To show all functions supported by an object, use `dot-tab` after the variable name"
   ]
  },
  {
   "cell_type": "markdown",
   "id": "charged-missouri",
   "metadata": {},
   "source": [
    "## Resources\n",
    "\n",
    "1. [Documentation provided by Jupyter Notebook](https://jupyter-notebook.readthedocs.io/en/stable/notebook.html)-Here you find all a comprehensive user documentation provided by the developers\n",
    "2. Jupyter notebooks are widely used by the python community and you can find many videos and blogs for new users.If you are facing any specific errors while starting and running the notebooks, please check out the following resources :<br>\n",
    "    (a) [Stack Overflow](https://stackoverflow.com/questions/tagged/jupyter-notebook)<br>\n",
    "    (b) [Discourse](https://discourse.jupyter.org/)<br>\n",
    "    (c) [Stack Exchange](https://datascience.stackexchange.com/questions/tagged/jupyter)\n",
    "    "
   ]
  }
 ],
 "metadata": {
  "kernelspec": {
   "display_name": "Python 3",
   "language": "python",
   "name": "python3"
  },
  "language_info": {
   "codemirror_mode": {
    "name": "ipython",
    "version": 3
   },
   "file_extension": ".py",
   "mimetype": "text/x-python",
   "name": "python",
   "nbconvert_exporter": "python",
   "pygments_lexer": "ipython3",
   "version": "3.7.8"
  },
  "toc": {
   "base_numbering": 1,
   "nav_menu": {},
   "number_sections": true,
   "sideBar": true,
   "skip_h1_title": false,
   "title_cell": "Table of Contents",
   "title_sidebar": "Contents",
   "toc_cell": false,
   "toc_position": {},
   "toc_section_display": true,
   "toc_window_display": false
  }
 },
 "nbformat": 4,
 "nbformat_minor": 5
}
