{
 "cells": [
  {
   "cell_type": "code",
   "execution_count": null,
   "id": "6bfa7a62",
   "metadata": {},
   "outputs": [],
   "source": [
    "import shapeworks as sw"
   ]
  },
  {
   "cell_type": "code",
   "execution_count": null,
   "id": "ac94167e",
   "metadata": {},
   "outputs": [],
   "source": [
    "import numpy as np"
   ]
  },
  {
   "cell_type": "markdown",
   "id": "c6af27b5",
   "metadata": {},
   "source": [
    "## shapeworks Image from numpy array"
   ]
  },
  {
   "cell_type": "code",
   "execution_count": null,
   "id": "b3e9bdc3",
   "metadata": {},
   "outputs": [],
   "source": [
    "dims = (1,3,2) # NOTE: numpy dims are specified in z, y, x order\n",
    "farr = np.ndarray(dims, dtype=np.float32)\n",
    "\n",
    "ival = 10; jval = 50; kval = 1.75\n",
    "for i in range(0, farr.shape[2]):\n",
    "    for j in range(0, farr.shape[1]):\n",
    "        for k in range(0, farr.shape[0]):\n",
    "            farr[k][j][i] = ival*(i/farr.shape[2]) + jval*(j/farr.shape[1]) + kval/farr.shape[0]"
   ]
  },
  {
   "cell_type": "code",
   "execution_count": null,
   "id": "ffd80abe",
   "metadata": {},
   "outputs": [],
   "source": [
    "farr.mean()"
   ]
  },
  {
   "cell_type": "code",
   "execution_count": null,
   "id": "87d5679d",
   "metadata": {},
   "outputs": [],
   "source": [
    "farr.dtype"
   ]
  },
  {
   "cell_type": "code",
   "execution_count": null,
   "id": "01b21333",
   "metadata": {},
   "outputs": [],
   "source": [
    "farr.flags['OWNDATA']"
   ]
  },
  {
   "cell_type": "code",
   "execution_count": null,
   "id": "0cc48423",
   "metadata": {},
   "outputs": [],
   "source": [
    "farrimg = sw.Image(farr)\n",
    "farrimg  # NOTE: sw.Image dims are specified in x, y, z order"
   ]
  },
  {
   "cell_type": "code",
   "execution_count": null,
   "id": "6ef51aa0",
   "metadata": {},
   "outputs": [],
   "source": [
    "farrimg.mean()"
   ]
  },
  {
   "cell_type": "markdown",
   "id": "dec7bfcd",
   "metadata": {},
   "source": [
    "### While the numpy can still look at the memory, it no longer has ownership:"
   ]
  },
  {
   "cell_type": "code",
   "execution_count": null,
   "id": "2b1cdcaa",
   "metadata": {},
   "outputs": [],
   "source": [
    "farr.flags['OWNDATA']"
   ]
  },
  {
   "cell_type": "code",
   "execution_count": null,
   "id": "d56ffcfc",
   "metadata": {},
   "outputs": [],
   "source": [
    "farrimg += 100"
   ]
  },
  {
   "cell_type": "code",
   "execution_count": null,
   "id": "0a5cdbac",
   "metadata": {},
   "outputs": [],
   "source": [
    "farrimg.mean()"
   ]
  },
  {
   "cell_type": "code",
   "execution_count": null,
   "id": "76982f88",
   "metadata": {},
   "outputs": [],
   "source": [
    "farr.mean()"
   ]
  },
  {
   "cell_type": "markdown",
   "id": "0fb0e08c",
   "metadata": {},
   "source": [
    "### ...so the safest thing to do now is let the array go out of scope: \n",
    "- having used a temporary during Image construction: `img = sw.Image(np.array(arr))`\n",
    "- variable replacement after Image construction: `arr = np.zeros(1)`\n",
    "- explicit deletion after Image construction: `del arr`"
   ]
  },
  {
   "cell_type": "code",
   "execution_count": null,
   "id": "ebac9f7f",
   "metadata": {},
   "outputs": [],
   "source": [
    "del farr"
   ]
  },
  {
   "cell_type": "markdown",
   "id": "c08a07d4",
   "metadata": {},
   "source": [
    "## Only dtype.float32 arrays can be used to initialize an image:"
   ]
  },
  {
   "cell_type": "code",
   "execution_count": null,
   "id": "25481ab4",
   "metadata": {},
   "outputs": [],
   "source": [
    "dims = (12,3,21)\n",
    "darr = np.ndarray(dims, dtype=np.float64)\n",
    "\n",
    "ival = 10; jval = 50; kval = 1.75\n",
    "for k in range(0, dims[0]):\n",
    "    for j in range(0, dims[1]):\n",
    "        for i in range(0, dims[2]):\n",
    "            darr[k][j][i] = ival*(i/darr.shape[2]) + jval*(j/darr.shape[1]) + kval/darr.shape[0]"
   ]
  },
  {
   "cell_type": "code",
   "execution_count": null,
   "id": "b1b712ae",
   "metadata": {},
   "outputs": [],
   "source": [
    "darr.dtype"
   ]
  },
  {
   "cell_type": "code",
   "execution_count": null,
   "id": "37f5a0b6",
   "metadata": {},
   "outputs": [],
   "source": [
    "darr.flags['OWNDATA']"
   ]
  },
  {
   "cell_type": "code",
   "execution_count": null,
   "id": "8aba39b4",
   "metadata": {},
   "outputs": [],
   "source": [
    "# note: this try/catch is only used so the notebook runs to completion; not typically necessary\n",
    "try:\n",
    "    darrimg = sw.Image(darr) # Throws an exception because dtype must be same as Image's pixel type\n",
    "except Exception as ex:\n",
    "    print(ex)\n"
   ]
  },
  {
   "cell_type": "code",
   "execution_count": null,
   "id": "9fb78b0c",
   "metadata": {},
   "outputs": [],
   "source": [
    "darrimg = sw.Image(np.array(darr, dtype=np.float32)) # Makes a copy of the array when passsed\n",
    "darrimg"
   ]
  },
  {
   "cell_type": "markdown",
   "id": "335e784f",
   "metadata": {},
   "source": [
    "## _No unnecessary copies and no memory leaks!_"
   ]
  },
  {
   "cell_type": "markdown",
   "id": "81a6bd48",
   "metadata": {},
   "source": [
    "### The numpy array still owns its data since a copy was passed to create the Image.\n",
    "### Ownership of the copy's memory was taken by the image before it went out of scope."
   ]
  },
  {
   "cell_type": "code",
   "execution_count": null,
   "id": "192a0ba5",
   "metadata": {},
   "outputs": [],
   "source": [
    "darr.flags['OWNDATA']"
   ]
  },
  {
   "cell_type": "code",
   "execution_count": null,
   "id": "429b2952",
   "metadata": {},
   "outputs": [],
   "source": [
    "darrimg.mean()"
   ]
  },
  {
   "cell_type": "code",
   "execution_count": null,
   "id": "f179abdb",
   "metadata": {},
   "outputs": [],
   "source": [
    "darr.mean()"
   ]
  },
  {
   "cell_type": "code",
   "execution_count": null,
   "id": "7581a01e",
   "metadata": {},
   "outputs": [],
   "source": [
    "darrimg += 50"
   ]
  },
  {
   "cell_type": "code",
   "execution_count": null,
   "id": "48ed3bfd",
   "metadata": {},
   "outputs": [],
   "source": [
    "darrimg.mean()"
   ]
  },
  {
   "cell_type": "code",
   "execution_count": null,
   "id": "c83e39aa",
   "metadata": {},
   "outputs": [],
   "source": [
    "darr.mean()"
   ]
  },
  {
   "cell_type": "code",
   "execution_count": null,
   "id": "8185b5b8",
   "metadata": {},
   "outputs": [],
   "source": [
    "darr *= 10"
   ]
  },
  {
   "cell_type": "code",
   "execution_count": null,
   "id": "cac94364",
   "metadata": {},
   "outputs": [],
   "source": [
    "darrimg.mean()"
   ]
  },
  {
   "cell_type": "code",
   "execution_count": null,
   "id": "4c3749cf",
   "metadata": {},
   "outputs": [],
   "source": [
    "darr.mean()"
   ]
  },
  {
   "cell_type": "markdown",
   "id": "0842cc27",
   "metadata": {},
   "source": [
    "### Now for the other way around.\n",
    "## numpy array from shapeworks Image"
   ]
  },
  {
   "cell_type": "code",
   "execution_count": null,
   "id": "320461ba",
   "metadata": {},
   "outputs": [],
   "source": [
    "img = sw.Image(\"/Users/cam/data/sw/tmp/1x2x2.nrrd\")\n",
    "img"
   ]
  },
  {
   "cell_type": "code",
   "execution_count": null,
   "id": "2b9a5283",
   "metadata": {},
   "outputs": [],
   "source": [
    "arr = img.toArray()\n",
    "arr.dtype"
   ]
  },
  {
   "cell_type": "code",
   "execution_count": null,
   "id": "3bd531d2",
   "metadata": {},
   "outputs": [],
   "source": [
    "arr.mean()"
   ]
  },
  {
   "cell_type": "code",
   "execution_count": null,
   "id": "0abbc84b",
   "metadata": {},
   "outputs": [],
   "source": [
    "img.mean()"
   ]
  },
  {
   "cell_type": "code",
   "execution_count": null,
   "id": "57d53767",
   "metadata": {},
   "outputs": [],
   "source": [
    "arr.shape  # remember, numpy dims are zyx and Image dims are xyz "
   ]
  },
  {
   "cell_type": "code",
   "execution_count": null,
   "id": "b10c7535",
   "metadata": {},
   "outputs": [],
   "source": [
    "img.dims()"
   ]
  },
  {
   "cell_type": "markdown",
   "id": "41b16d13",
   "metadata": {},
   "source": [
    "### The numpy array references the memory of the current Image and can change it:\n"
   ]
  },
  {
   "cell_type": "code",
   "execution_count": null,
   "id": "9ec928b6",
   "metadata": {},
   "outputs": [],
   "source": [
    "arr += 100"
   ]
  },
  {
   "cell_type": "code",
   "execution_count": null,
   "id": "6c493c94",
   "metadata": {},
   "outputs": [],
   "source": [
    "img.mean()"
   ]
  },
  {
   "cell_type": "code",
   "execution_count": null,
   "id": "217029b9",
   "metadata": {},
   "outputs": [],
   "source": [
    "arr.mean()"
   ]
  },
  {
   "cell_type": "markdown",
   "id": "d2c4b250",
   "metadata": {},
   "source": [
    "### ...but it still doesn't have ownership.\n",
    "### Since many Image operations reallocate internally, it's still safest to let it go out of scope as shown above."
   ]
  },
  {
   "cell_type": "code",
   "execution_count": null,
   "id": "75cae456",
   "metadata": {},
   "outputs": [],
   "source": [
    "arr.flags['OWNDATA']"
   ]
  },
  {
   "cell_type": "code",
   "execution_count": null,
   "id": "f41bf452",
   "metadata": {},
   "outputs": [],
   "source": [
    "del arr"
   ]
  },
  {
   "cell_type": "markdown",
   "id": "0503119f",
   "metadata": {},
   "source": [
    "## viewing the image using pyvista\n",
    "### One common reason to get the Image's array is for viewing using pyvista using the `for_viewing` argument:"
   ]
  },
  {
   "cell_type": "code",
   "execution_count": null,
   "id": "95287fa2",
   "metadata": {},
   "outputs": [],
   "source": [
    "import pyvista as pv"
   ]
  },
  {
   "cell_type": "code",
   "execution_count": null,
   "id": "d247effe",
   "metadata": {},
   "outputs": [],
   "source": [
    "pv.set_jupyter_backend(backend=\"ipyvtklink\")"
   ]
  },
  {
   "cell_type": "code",
   "execution_count": null,
   "id": "1eed5ed0",
   "metadata": {},
   "outputs": [],
   "source": [
    "#help(pv.Plotter)"
   ]
  },
  {
   "cell_type": "code",
   "execution_count": null,
   "id": "79d2eb2d",
   "metadata": {},
   "outputs": [],
   "source": [
    "plotter = pv.Plotter(shape    = (1, 1),\n",
    "                     notebook = True,\n",
    "                     border   = True)\n",
    "plotter.add_axes()\n",
    "plotter.add_bounding_box()\n",
    "#plotter.show_bounds()  # for some reason extremely slow on osx\n",
    "#plotter.show_grid()    # for some reason extremely slow on osx"
   ]
  },
  {
   "cell_type": "code",
   "execution_count": null,
   "id": "6e2b5917",
   "metadata": {},
   "outputs": [],
   "source": [
    "# NOTE: pyvisya-wrapped vtk images require 'F' ordering to prevent copying\n",
    "arr = img.toArray(for_viewing = True) # 'F' is `for_viewing`\n",
    "arr.flags"
   ]
  },
  {
   "cell_type": "code",
   "execution_count": null,
   "id": "d8b72642",
   "metadata": {},
   "outputs": [],
   "source": [
    "arr.flags"
   ]
  },
  {
   "cell_type": "code",
   "execution_count": null,
   "id": "3079f1e4",
   "metadata": {},
   "outputs": [],
   "source": [
    "# sw2vtkImage takes care of this for us\n",
    "vtkimg = sw.sw2vtkImage(img, verbose=True)"
   ]
  },
  {
   "cell_type": "code",
   "execution_count": null,
   "id": "12b6e1b6",
   "metadata": {},
   "outputs": [],
   "source": [
    "vol = plotter.add_volume(vtkimg, shade=True, show_scalar_bar=True)"
   ]
  },
  {
   "cell_type": "code",
   "execution_count": null,
   "id": "81469daf",
   "metadata": {},
   "outputs": [],
   "source": [
    "plotter.show()"
   ]
  },
  {
   "cell_type": "markdown",
   "id": "b446966e",
   "metadata": {},
   "source": [
    "## Finally, we can `assign` a numpy array to an existing Image\n",
    "### This retains the Image's origin, scale, and coordsys."
   ]
  },
  {
   "cell_type": "code",
   "execution_count": null,
   "id": "33da6566",
   "metadata": {},
   "outputs": [],
   "source": [
    "plotter = pv.Plotter(shape    = (1, 1),\n",
    "                     notebook = True,\n",
    "                     border   = True)\n",
    "plotter.add_axes()\n",
    "plotter.add_bounding_box()"
   ]
  },
  {
   "cell_type": "code",
   "execution_count": null,
   "id": "ad5c613e",
   "metadata": {},
   "outputs": [],
   "source": [
    "img1 = sw.Image(\"/Users/cam/data/sw/femur.nrrd\")"
   ]
  },
  {
   "cell_type": "code",
   "execution_count": null,
   "id": "2e361e5b",
   "metadata": {},
   "outputs": [],
   "source": [
    "img1.setSpacing((1.5, 0.75, 1))  # set spacing to show that it's preserved on both copy and assign"
   ]
  },
  {
   "cell_type": "code",
   "execution_count": null,
   "id": "c03ed6a6",
   "metadata": {},
   "outputs": [],
   "source": [
    "img2 = sw.Image(img1)  # make a copy to be processed by a scipy Python filter (spacing preserved)"
   ]
  },
  {
   "cell_type": "markdown",
   "id": "a51e8464",
   "metadata": {},
   "source": [
    "### Let's use a scipy operation on the image:"
   ]
  },
  {
   "cell_type": "code",
   "execution_count": null,
   "id": "7b842303",
   "metadata": {},
   "outputs": [],
   "source": [
    "from scipy import signal, ndimage"
   ]
  },
  {
   "cell_type": "code",
   "execution_count": null,
   "id": "729b962b",
   "metadata": {},
   "outputs": [],
   "source": [
    "ck = ndimage.gaussian_filter(img2.toArray(), 12.0)"
   ]
  },
  {
   "cell_type": "markdown",
   "id": "d964b919",
   "metadata": {},
   "source": [
    "### The return from this filter is the right size and type, but it's a copy:"
   ]
  },
  {
   "cell_type": "code",
   "execution_count": null,
   "id": "aed158ee",
   "metadata": {},
   "outputs": [],
   "source": [
    "ck.shape"
   ]
  },
  {
   "cell_type": "code",
   "execution_count": null,
   "id": "e5de012b",
   "metadata": {},
   "outputs": [],
   "source": [
    "ck.dtype"
   ]
  },
  {
   "cell_type": "code",
   "execution_count": null,
   "id": "3990c538",
   "metadata": {},
   "outputs": [],
   "source": [
    "ck.flags['OWNDATA']"
   ]
  },
  {
   "cell_type": "markdown",
   "id": "de495e28",
   "metadata": {},
   "source": [
    "### Let's assign it back to Image so we can retain Image's origin, scale, and coordsys:"
   ]
  },
  {
   "cell_type": "code",
   "execution_count": null,
   "id": "c5eb3fa5",
   "metadata": {},
   "outputs": [],
   "source": [
    "img2.assign(ck)"
   ]
  },
  {
   "cell_type": "code",
   "execution_count": null,
   "id": "ca8d4d9b",
   "metadata": {},
   "outputs": [],
   "source": [
    "# notice numpy array ownership has been transferred to Image\n",
    "ck.flags['OWNDATA']"
   ]
  },
  {
   "cell_type": "markdown",
   "id": "7a128230",
   "metadata": {},
   "source": [
    "### Now we can look at it again in the plotter:"
   ]
  },
  {
   "cell_type": "code",
   "execution_count": null,
   "id": "b665d578",
   "metadata": {},
   "outputs": [],
   "source": [
    "plotter.add_volume(sw.sw2vtkImage(img2), shade=True, show_scalar_bar=True)\n",
    "\n",
    "plotter.add_volume(sw.sw2vtkImage(img1), shade=True, show_scalar_bar=True)"
   ]
  },
  {
   "cell_type": "code",
   "execution_count": null,
   "id": "a8a15274",
   "metadata": {},
   "outputs": [],
   "source": [
    "plotter.show()"
   ]
  }
 ],
 "metadata": {
  "kernelspec": {
   "display_name": "Python 3 (ipykernel)",
   "language": "python",
   "name": "python3"
  },
  "language_info": {
   "codemirror_mode": {
    "name": "ipython",
    "version": 3
   },
   "file_extension": ".py",
   "mimetype": "text/x-python",
   "name": "python",
   "nbconvert_exporter": "python",
   "pygments_lexer": "ipython3",
   "version": "3.7.8"
  },
  "toc": {
   "base_numbering": 1,
   "nav_menu": {},
   "number_sections": false,
   "sideBar": true,
   "skip_h1_title": false,
   "title_cell": "Table of Contents",
   "title_sidebar": "Contents",
   "toc_cell": false,
   "toc_position": {},
   "toc_section_display": true,
   "toc_window_display": false
  }
 },
 "nbformat": 4,
 "nbformat_minor": 5
}
