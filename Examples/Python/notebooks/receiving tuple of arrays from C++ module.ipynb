{
 "cells": [
  {
   "cell_type": "markdown",
   "id": "490fab36",
   "metadata": {},
   "source": [
    "# Some functions return tuple of arrays.\n",
    "## This notebook shows Mesh.distance(other_mesh), which returns a tuple with an array of distances and the corresponding point or cell ids nearest the closest points.  "
   ]
  },
  {
   "cell_type": "code",
   "execution_count": null,
   "id": "3b3c5d02",
   "metadata": {},
   "outputs": [],
   "source": [
    "import shapeworks as sw\n",
    "import numpy as np\n",
    "import pyvista as pv\n",
    "import math"
   ]
  },
  {
   "cell_type": "code",
   "execution_count": null,
   "id": "5cbf5633",
   "metadata": {},
   "outputs": [],
   "source": [
    "pv.set_jupyter_backend('static')"
   ]
  },
  {
   "cell_type": "code",
   "execution_count": null,
   "id": "06d85be7",
   "metadata": {},
   "outputs": [],
   "source": [
    "DATA = \"../Data\""
   ]
  },
  {
   "cell_type": "markdown",
   "id": "bb175c1e",
   "metadata": {},
   "source": [
    "## Example of Mesh.distance results\n",
    "Receives array of distances and their associated cell/point ids in target"
   ]
  },
  {
   "cell_type": "code",
   "execution_count": null,
   "id": "2ad477f7",
   "metadata": {},
   "outputs": [],
   "source": [
    "filename1 = DATA + \"/ellipsoid_1mode/meshes/ellipsoid_05.vtk\"\n",
    "filename2 = DATA + \"/ellipsoid_1mode/meshes/ellipsoid_07.vtk\""
   ]
  },
  {
   "cell_type": "code",
   "execution_count": null,
   "id": "684dc2b2",
   "metadata": {},
   "outputs": [],
   "source": [
    "mesh1 = sw.Mesh(filename1)\n",
    "mesh2 = sw.Mesh(filename2)"
   ]
  },
  {
   "cell_type": "markdown",
   "id": "24bccaff",
   "metadata": {},
   "source": [
    "### point to cell distance"
   ]
  },
  {
   "cell_type": "code",
   "execution_count": null,
   "id": "9e9ca34a",
   "metadata": {},
   "outputs": [],
   "source": [
    "distances_and_cell_ids_1to2 = mesh1.distance(mesh2)\n",
    "distances_and_cell_ids_2to1 = mesh2.distance(mesh1)"
   ]
  },
  {
   "cell_type": "code",
   "execution_count": null,
   "id": "f2faeed7",
   "metadata": {},
   "outputs": [],
   "source": [
    "distances_and_cell_ids_1to2"
   ]
  },
  {
   "cell_type": "code",
   "execution_count": null,
   "id": "11925f49",
   "metadata": {},
   "outputs": [],
   "source": [
    "distances_and_cell_ids_2to1"
   ]
  },
  {
   "cell_type": "code",
   "execution_count": null,
   "id": "d8ded6a9",
   "metadata": {},
   "outputs": [],
   "source": [
    "distances_and_cell_ids_1to2[0].size"
   ]
  },
  {
   "cell_type": "code",
   "execution_count": null,
   "id": "3fa2830b",
   "metadata": {},
   "outputs": [],
   "source": [
    "distances_and_cell_ids_1to2[1].size"
   ]
  },
  {
   "cell_type": "markdown",
   "id": "2bae48ca",
   "metadata": {},
   "source": [
    "#### validate data ownership, ensuring no copying from C++ to Python"
   ]
  },
  {
   "cell_type": "code",
   "execution_count": null,
   "id": "77f35c7d",
   "metadata": {},
   "outputs": [],
   "source": [
    "distances_and_cell_ids_1to2[0].flags\n"
   ]
  },
  {
   "cell_type": "code",
   "execution_count": null,
   "id": "fe6e57fd",
   "metadata": {},
   "outputs": [],
   "source": [
    "distances_and_cell_ids_2to1[1].flags\n"
   ]
  },
  {
   "cell_type": "markdown",
   "id": "dee18cd1",
   "metadata": {},
   "source": [
    "### point to point distance"
   ]
  },
  {
   "cell_type": "code",
   "execution_count": null,
   "id": "1f74decb",
   "metadata": {},
   "outputs": [],
   "source": [
    "distances_and_point_ids_1to2 = mesh1.distance(mesh2, Mesh.DistanceMethod.PointToPoint)\n",
    "distances_and_point_ids_2to1 = mesh2.distance(mesh1, Mesh.DistanceMethod.PointToPoint)"
   ]
  },
  {
   "cell_type": "code",
   "execution_count": null,
   "id": "fa39ef68",
   "metadata": {},
   "outputs": [],
   "source": [
    "distances_and_point_ids_1to2"
   ]
  },
  {
   "cell_type": "code",
   "execution_count": null,
   "id": "11a199cd",
   "metadata": {},
   "outputs": [],
   "source": [
    "distances_and_point_ids_2to1"
   ]
  },
  {
   "cell_type": "code",
   "execution_count": null,
   "id": "c61e810f",
   "metadata": {},
   "outputs": [],
   "source": [
    "distances_and_point_ids_1to2[0].size"
   ]
  },
  {
   "cell_type": "code",
   "execution_count": null,
   "id": "73129154",
   "metadata": {},
   "outputs": [],
   "source": [
    "distances_and_point_ids_1to2[1].size"
   ]
  },
  {
   "cell_type": "markdown",
   "id": "e9ef0c29",
   "metadata": {},
   "source": [
    "#### validate distance of first point in mesh1 to specified closest point in mesh2\n",
    "distance 1to2[0]: 43.43859498"
   ]
  },
  {
   "cell_type": "code",
   "execution_count": null,
   "id": "9e67604b",
   "metadata": {},
   "outputs": [],
   "source": [
    "p0 = mesh1.getPoint(0)\n",
    "p0"
   ]
  },
  {
   "cell_type": "code",
   "execution_count": null,
   "id": "f5af3845",
   "metadata": {},
   "outputs": [],
   "source": [
    "p1 = mesh2.getPoint(458)\n",
    "p1"
   ]
  },
  {
   "cell_type": "code",
   "execution_count": null,
   "id": "fc6f023f",
   "metadata": {},
   "outputs": [],
   "source": [
    "v = p1 - p0\n",
    "v"
   ]
  },
  {
   "cell_type": "code",
   "execution_count": null,
   "id": "1d38d015",
   "metadata": {},
   "outputs": [],
   "source": [
    "math.sqrt(v.dot(v))"
   ]
  },
  {
   "cell_type": "markdown",
   "id": "54d30247",
   "metadata": {},
   "source": [
    "### plot distances as scalar field on meshes"
   ]
  },
  {
   "cell_type": "code",
   "execution_count": null,
   "id": "4504473d",
   "metadata": {},
   "outputs": [],
   "source": [
    "pv_mesh1 = sw.sw2vtkMesh(mesh1)\n",
    "pv_mesh2 = sw.sw2vtkMesh(mesh2)"
   ]
  },
  {
   "cell_type": "code",
   "execution_count": null,
   "id": "b17f29b9",
   "metadata": {},
   "outputs": [],
   "source": [
    "# used to maintain bounds even when meshes' positions change\n",
    "a = pv.UniformGrid()\n",
    "a.dimensions = np.array([9,8,8])\n",
    "a.origin = (-15,-5,-15)\n",
    "a.spacing = (10, 10, 10)\n",
    "outline = a.outline()\n",
    "\n",
    "p = pv.Plotter(shape=(1,1), border=False)\n",
    "\n",
    "p.subplot(0,0)\n",
    "p.add_text(\"distances\")\n",
    "p.add_mesh(outline)\n",
    "p.add_mesh(pv_mesh1, scalars=distances_and_cell_ids_1to2[0], show_scalar_bar=True, opacity=1.0)\n",
    "p.add_mesh(pv_mesh2, scalars=distances_and_cell_ids_2to1[0], show_scalar_bar=True, opacity=1.0)\n",
    "p.camera_position = 'xy'\n",
    "\n",
    "p.show()"
   ]
  }
 ],
 "metadata": {
  "kernelspec": {
   "display_name": "Python 3 (ipykernel)",
   "language": "python",
   "name": "python3"
  },
  "language_info": {
   "codemirror_mode": {
    "name": "ipython",
    "version": 3
   },
   "file_extension": ".py",
   "mimetype": "text/x-python",
   "name": "python",
   "nbconvert_exporter": "python",
   "pygments_lexer": "ipython3",
   "version": "3.7.8"
  },
  "toc": {
   "base_numbering": 1,
   "nav_menu": {},
   "number_sections": true,
   "sideBar": true,
   "skip_h1_title": false,
   "title_cell": "Table of Contents",
   "title_sidebar": "Contents",
   "toc_cell": false,
   "toc_position": {},
   "toc_section_display": true,
   "toc_window_display": false
  }
 },
 "nbformat": 4,
 "nbformat_minor": 5
}
