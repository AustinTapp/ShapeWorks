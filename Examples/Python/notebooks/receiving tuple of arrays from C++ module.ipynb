{
 "cells": [
  {
   "cell_type": "markdown",
   "id": "6fbc6949",
   "metadata": {},
   "source": [
    "# Some functions return tuple of arrays.\n",
    "## This notebook shows Mesh.distance(other_mesh), which returns a tuple with an array of distances and the corresponding point or cell ids nearest the closest points.  "
   ]
  },
  {
   "cell_type": "code",
   "execution_count": null,
   "id": "a8654802",
   "metadata": {},
   "outputs": [],
   "source": [
    "import shapeworks as sw\n",
    "import numpy as np\n",
    "import pyvista as pv\n",
    "import math"
   ]
  },
  {
   "cell_type": "code",
   "execution_count": null,
   "id": "087c4ba9",
   "metadata": {},
   "outputs": [],
   "source": [
    "pv.set_jupyter_backend('static')"
   ]
  },
  {
   "cell_type": "code",
   "execution_count": null,
   "id": "c3386206",
   "metadata": {},
   "outputs": [],
   "source": [
    "DATA = \"../Data\""
   ]
  },
  {
   "cell_type": "markdown",
   "id": "bfbe5bab",
   "metadata": {},
   "source": [
    "## Example of Mesh.distance results\n",
    "Receives array of distances and their associated cell/point ids in target"
   ]
  },
  {
   "cell_type": "code",
   "execution_count": null,
   "id": "af72fd24",
   "metadata": {},
   "outputs": [],
   "source": [
    "filename1 = DATA + \"/ellipsoid_1mode/meshes/ellipsoid_05.vtk\"\n",
    "filename2 = DATA + \"/ellipsoid_1mode/meshes/ellipsoid_07.vtk\""
   ]
  },
  {
   "cell_type": "code",
   "execution_count": null,
   "id": "5ac33576",
   "metadata": {},
   "outputs": [],
   "source": [
    "mesh1 = sw.Mesh(filename1)\n",
    "mesh2 = sw.Mesh(filename2)"
   ]
  },
  {
   "cell_type": "markdown",
   "id": "5a61f076",
   "metadata": {},
   "source": [
    "### point to cell distance"
   ]
  },
  {
   "cell_type": "code",
   "execution_count": null,
   "id": "9e25e9b6",
   "metadata": {},
   "outputs": [],
   "source": [
    "distances_and_cell_ids_1to2 = mesh1.distance(mesh2)\n",
    "distances_and_cell_ids_2to1 = mesh2.distance(mesh1)"
   ]
  },
  {
   "cell_type": "code",
   "execution_count": null,
   "id": "13b4b788",
   "metadata": {},
   "outputs": [],
   "source": [
    "distances_and_cell_ids_1to2"
   ]
  },
  {
   "cell_type": "code",
   "execution_count": null,
   "id": "3680a83b",
   "metadata": {},
   "outputs": [],
   "source": [
    "distances_and_cell_ids_2to1"
   ]
  },
  {
   "cell_type": "code",
   "execution_count": null,
   "id": "d0827cbc",
   "metadata": {},
   "outputs": [],
   "source": [
    "distances_and_cell_ids_1to2[0].size"
   ]
  },
  {
   "cell_type": "code",
   "execution_count": null,
   "id": "9f94ca64",
   "metadata": {},
   "outputs": [],
   "source": [
    "distances_and_cell_ids_1to2[1].size"
   ]
  },
  {
   "cell_type": "markdown",
   "id": "0c30adf6",
   "metadata": {},
   "source": [
    "#### validate data ownership, ensuring no copying from C++ to Python"
   ]
  },
  {
   "cell_type": "code",
   "execution_count": null,
   "id": "14434f97",
   "metadata": {},
   "outputs": [],
   "source": [
    "distances_and_cell_ids_1to2[0].flags\n"
   ]
  },
  {
   "cell_type": "code",
   "execution_count": null,
   "id": "86fa15cf",
   "metadata": {},
   "outputs": [],
   "source": [
    "distances_and_cell_ids_2to1[1].flags\n"
   ]
  },
  {
   "cell_type": "markdown",
   "id": "d1207fed",
   "metadata": {},
   "source": [
    "### point to point distance"
   ]
  },
  {
   "cell_type": "code",
   "execution_count": null,
   "id": "7dd2b2e2",
   "metadata": {},
   "outputs": [],
   "source": [
    "distances_and_point_ids_1to2 = mesh1.vertexDistance(mesh2)\n",
    "distances_and_point_ids_2to1 = mesh2.vertexDistance(mesh1)"
   ]
  },
  {
   "cell_type": "code",
   "execution_count": null,
   "id": "f6553f01",
   "metadata": {},
   "outputs": [],
   "source": [
    "distances_and_point_ids_1to2"
   ]
  },
  {
   "cell_type": "code",
   "execution_count": null,
   "id": "cdecdf74",
   "metadata": {},
   "outputs": [],
   "source": [
    "distances_and_point_ids_2to1"
   ]
  },
  {
   "cell_type": "code",
   "execution_count": null,
   "id": "1ff82563",
   "metadata": {},
   "outputs": [],
   "source": [
    "distances_and_point_ids_1to2[0].size"
   ]
  },
  {
   "cell_type": "code",
   "execution_count": null,
   "id": "ff566b5c",
   "metadata": {},
   "outputs": [],
   "source": [
    "distances_and_point_ids_1to2[1].size"
   ]
  },
  {
   "cell_type": "markdown",
   "id": "2fe41030",
   "metadata": {},
   "source": [
    "#### validate distance of first point in mesh1 to specified closest point in mesh2\n",
    "distance 1to2[0]: 43.43859498"
   ]
  },
  {
   "cell_type": "code",
   "execution_count": null,
   "id": "6509dc04",
   "metadata": {},
   "outputs": [],
   "source": [
    "p0 = mesh1.getPoint(0)\n",
    "p0"
   ]
  },
  {
   "cell_type": "code",
   "execution_count": null,
   "id": "39953233",
   "metadata": {},
   "outputs": [],
   "source": [
    "p1 = mesh2.getPoint(458)\n",
    "p1"
   ]
  },
  {
   "cell_type": "code",
   "execution_count": null,
   "id": "f0706514",
   "metadata": {},
   "outputs": [],
   "source": [
    "v = p1 - p0\n",
    "v"
   ]
  },
  {
   "cell_type": "code",
   "execution_count": null,
   "id": "612617c4",
   "metadata": {},
   "outputs": [],
   "source": [
    "math.sqrt(v.dot(v))"
   ]
  },
  {
   "cell_type": "markdown",
   "id": "3c52107b",
   "metadata": {},
   "source": [
    "### plot distances as scalar field on meshes"
   ]
  },
  {
   "cell_type": "code",
   "execution_count": null,
   "id": "b6767d55",
   "metadata": {},
   "outputs": [],
   "source": [
    "pv_mesh1 = sw.sw2vtkMesh(mesh1)\n",
    "pv_mesh2 = sw.sw2vtkMesh(mesh2)"
   ]
  },
  {
   "cell_type": "code",
   "execution_count": null,
   "id": "1eecfb93",
   "metadata": {},
   "outputs": [],
   "source": [
    "# used to maintain bounds even when meshes' positions change\n",
    "a = pv.UniformGrid()\n",
    "a.dimensions = np.array([9,8,8])\n",
    "a.origin = (-15,-5,-15)\n",
    "a.spacing = (10, 10, 10)\n",
    "outline = a.outline()\n",
    "\n",
    "p = pv.Plotter(shape=(1,1), border=False)\n",
    "\n",
    "p.subplot(0,0)\n",
    "p.add_text(\"distances\")\n",
    "p.add_mesh(outline)\n",
    "p.add_mesh(pv_mesh1, scalars=distances_and_cell_ids_1to2[0], show_scalar_bar=True, opacity=1.0)\n",
    "p.add_mesh(pv_mesh2, scalars=distances_and_cell_ids_2to1[0], show_scalar_bar=True, opacity=1.0)\n",
    "p.camera_position = 'xy'\n",
    "\n",
    "p.show()"
   ]
  }
 ],
 "metadata": {
  "kernelspec": {
   "display_name": "Python 3 (ipykernel)",
   "language": "python",
   "name": "python3"
  },
  "language_info": {
   "codemirror_mode": {
    "name": "ipython",
    "version": 3
   },
   "file_extension": ".py",
   "mimetype": "text/x-python",
   "name": "python",
   "nbconvert_exporter": "python",
   "pygments_lexer": "ipython3",
   "version": "3.7.8"
  },
  "toc": {
   "base_numbering": 1,
   "nav_menu": {},
   "number_sections": true,
   "sideBar": true,
   "skip_h1_title": false,
   "title_cell": "Table of Contents",
   "title_sidebar": "Contents",
   "toc_cell": false,
   "toc_position": {},
   "toc_section_display": true,
   "toc_window_display": false
  }
 },
 "nbformat": 4,
 "nbformat_minor": 5
}
