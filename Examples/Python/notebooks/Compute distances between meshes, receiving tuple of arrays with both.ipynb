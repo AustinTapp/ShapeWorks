{
 "cells": [
  {
   "cell_type": "markdown",
   "id": "6e5a505d",
   "metadata": {},
   "source": [
    "# Some functions return tuple of arrays.\n",
    "## This notebook shows Mesh.distance(other_mesh), which returns a tuple with an array of distances and their corresponding point or cell ids"
   ]
  },
  {
   "cell_type": "code",
   "execution_count": null,
   "id": "6505bec4",
   "metadata": {},
   "outputs": [],
   "source": [
    "import shapeworks as sw\n",
    "import numpy as np\n",
    "import pyvista as pv\n",
    "import math"
   ]
  },
  {
   "cell_type": "code",
   "execution_count": null,
   "id": "a9b9f895",
   "metadata": {},
   "outputs": [],
   "source": [
    "pv.set_jupyter_backend('static')"
   ]
  },
  {
   "cell_type": "code",
   "execution_count": null,
   "id": "6f1f20fe",
   "metadata": {},
   "outputs": [],
   "source": [
    "DATA = \"../Data\""
   ]
  },
  {
   "cell_type": "markdown",
   "id": "9c6a2595",
   "metadata": {},
   "source": [
    "## Example of Mesh.distance results\n",
    "Receives array of distances and their associated cell/point ids in target"
   ]
  },
  {
   "cell_type": "code",
   "execution_count": null,
   "id": "df4b3a03",
   "metadata": {},
   "outputs": [],
   "source": [
    "filename1 = DATA + \"/ellipsoid_1mode/meshes/ellipsoid_05.vtk\"\n",
    "filename2 = DATA + \"/ellipsoid_1mode/meshes/ellipsoid_07.vtk\""
   ]
  },
  {
   "cell_type": "code",
   "execution_count": null,
   "id": "f7259ec9",
   "metadata": {},
   "outputs": [],
   "source": [
    "mesh1 = sw.Mesh(filename1)\n",
    "mesh2 = sw.Mesh(filename2)"
   ]
  },
  {
   "cell_type": "markdown",
   "id": "e1bd2392",
   "metadata": {},
   "source": [
    "### point to cell distance"
   ]
  },
  {
   "cell_type": "code",
   "execution_count": null,
   "id": "b0cdcb4e",
   "metadata": {},
   "outputs": [],
   "source": [
    "distances_and_cell_ids_1to2 = mesh1.distance(mesh2)\n",
    "distances_and_cell_ids_2to1 = mesh2.distance(mesh1)"
   ]
  },
  {
   "cell_type": "code",
   "execution_count": null,
   "id": "8303ebf9",
   "metadata": {},
   "outputs": [],
   "source": [
    "distances_and_cell_ids_1to2"
   ]
  },
  {
   "cell_type": "code",
   "execution_count": null,
   "id": "b75b4fa4",
   "metadata": {},
   "outputs": [],
   "source": [
    "distances_and_cell_ids_2to1"
   ]
  },
  {
   "cell_type": "code",
   "execution_count": null,
   "id": "7ca1df2e",
   "metadata": {},
   "outputs": [],
   "source": [
    "distances_and_cell_ids_1to2[0].size"
   ]
  },
  {
   "cell_type": "code",
   "execution_count": null,
   "id": "b1079e6c",
   "metadata": {},
   "outputs": [],
   "source": [
    "distances_and_cell_ids_1to2[1].size"
   ]
  },
  {
   "cell_type": "markdown",
   "id": "dea22c0d",
   "metadata": {},
   "source": [
    "#### validate data ownership, ensuring no copying from C++ to Python"
   ]
  },
  {
   "cell_type": "code",
   "execution_count": null,
   "id": "0e4f9bfb",
   "metadata": {},
   "outputs": [],
   "source": [
    "distances_and_cell_ids_1to2[0].flags\n"
   ]
  },
  {
   "cell_type": "code",
   "execution_count": null,
   "id": "da310e5a",
   "metadata": {},
   "outputs": [],
   "source": [
    "distances_and_cell_ids_2to1[1].flags\n"
   ]
  },
  {
   "cell_type": "markdown",
   "id": "b7eaab7a",
   "metadata": {},
   "source": [
    "### point to point distance"
   ]
  },
  {
   "cell_type": "code",
   "execution_count": null,
   "id": "d687d29d",
   "metadata": {},
   "outputs": [],
   "source": [
    "distances_and_point_ids_1to2 = mesh1.vertexDistance(mesh2)\n",
    "distances_and_point_ids_2to1 = mesh2.vertexDistance(mesh1)"
   ]
  },
  {
   "cell_type": "code",
   "execution_count": null,
   "id": "7c5473a5",
   "metadata": {},
   "outputs": [],
   "source": [
    "distances_and_point_ids_1to2"
   ]
  },
  {
   "cell_type": "code",
   "execution_count": null,
   "id": "a6ca9845",
   "metadata": {},
   "outputs": [],
   "source": [
    "distances_and_point_ids_2to1"
   ]
  },
  {
   "cell_type": "code",
   "execution_count": null,
   "id": "e9daeb6d",
   "metadata": {},
   "outputs": [],
   "source": [
    "distances_and_point_ids_1to2[0].size"
   ]
  },
  {
   "cell_type": "code",
   "execution_count": null,
   "id": "74890a94",
   "metadata": {},
   "outputs": [],
   "source": [
    "distances_and_point_ids_1to2[1].size"
   ]
  },
  {
   "cell_type": "markdown",
   "id": "2b7c08ba",
   "metadata": {},
   "source": [
    "#### validate distance of first point in mesh1 to specified closest point in mesh2\n",
    "distance 1to2[0]: 43.43859498"
   ]
  },
  {
   "cell_type": "code",
   "execution_count": null,
   "id": "2b6c0bc0",
   "metadata": {},
   "outputs": [],
   "source": [
    "p0 = mesh1.getPoint(0)\n",
    "p0"
   ]
  },
  {
   "cell_type": "code",
   "execution_count": null,
   "id": "4a7260fd",
   "metadata": {},
   "outputs": [],
   "source": [
    "p1 = mesh2.getPoint(458)\n",
    "p1"
   ]
  },
  {
   "cell_type": "code",
   "execution_count": null,
   "id": "9f4d0750",
   "metadata": {},
   "outputs": [],
   "source": [
    "v = p1 - p0\n",
    "v"
   ]
  },
  {
   "cell_type": "code",
   "execution_count": null,
   "id": "05b99aa2",
   "metadata": {},
   "outputs": [],
   "source": [
    "math.sqrt(v.dot(v))"
   ]
  },
  {
   "cell_type": "markdown",
   "id": "08a02774",
   "metadata": {},
   "source": [
    "### plot distances as scalar field on meshes"
   ]
  },
  {
   "cell_type": "code",
   "execution_count": null,
   "id": "392cf619",
   "metadata": {},
   "outputs": [],
   "source": [
    "pv_mesh1 = sw.sw2vtkMesh(mesh1)\n",
    "pv_mesh2 = sw.sw2vtkMesh(mesh2)"
   ]
  },
  {
   "cell_type": "code",
   "execution_count": null,
   "id": "da656454",
   "metadata": {},
   "outputs": [],
   "source": [
    "# used to maintain bounds even when meshes' positions change\n",
    "a = pv.UniformGrid()\n",
    "a.dimensions = np.array([9,8,8])\n",
    "a.origin = (-15,-5,-15)\n",
    "a.spacing = (10, 10, 10)\n",
    "outline = a.outline()\n",
    "\n",
    "p = pv.Plotter(shape=(1,1), border=False)\n",
    "\n",
    "p.subplot(0,0)\n",
    "p.add_text(\"distances\")\n",
    "p.add_mesh(outline)\n",
    "p.add_mesh(pv_mesh1, scalars=distances_and_cell_ids_1to2[0], show_scalar_bar=True, opacity=1.0)\n",
    "p.add_mesh(pv_mesh2, scalars=distances_and_cell_ids_2to1[0], show_scalar_bar=True, opacity=1.0)\n",
    "p.camera_position = 'xy'\n",
    "\n",
    "p.show()"
   ]
  },
  {
   "cell_type": "code",
   "execution_count": null,
   "id": "4fd98bf3",
   "metadata": {},
   "outputs": [],
   "source": []
  }
 ],
 "metadata": {
  "kernelspec": {
   "display_name": "Python 3 (ipykernel)",
   "language": "python",
   "name": "python3"
  },
  "language_info": {
   "codemirror_mode": {
    "name": "ipython",
    "version": 3
   },
   "file_extension": ".py",
   "mimetype": "text/x-python",
   "name": "python",
   "nbconvert_exporter": "python",
   "pygments_lexer": "ipython3",
   "version": "3.7.8"
  },
  "toc": {
   "base_numbering": 1,
   "nav_menu": {},
   "number_sections": true,
   "sideBar": true,
   "skip_h1_title": false,
   "title_cell": "Table of Contents",
   "title_sidebar": "Contents",
   "toc_cell": false,
   "toc_position": {},
   "toc_section_display": true,
   "toc_window_display": false
  }
 },
 "nbformat": 4,
 "nbformat_minor": 5
}
