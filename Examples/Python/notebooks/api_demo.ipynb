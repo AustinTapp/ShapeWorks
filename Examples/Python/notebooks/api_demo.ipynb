{
 "cells": [
  {
   "cell_type": "code",
   "execution_count": 7,
   "metadata": {},
   "outputs": [],
   "source": [
    "import sys\n",
    "import numpy as np\n",
    "import io\n",
    "import glob\n",
    "import os\n",
    "import subprocess\n",
    "import shutil\n",
    "import xml.etree.ElementTree as ET\n",
    "import platform\n",
    "\n",
    "# default_binpath = \"../../build/bin\"\n",
    "# if platform.system() == \"Windows\":\n",
    "#     default_binpath = \"C:\\\\Program Files\\ShapeWorks\\\\bin\"\n",
    "# if platform.system() == \"Darwin\":\n",
    "#     default_binpath = \"/Applications/ShapeWorks/bin:/Applications/ShapeWorks/bin/ShapeWorksStudio.app/Contents/MacOS\"\n",
    "\n",
    "# os.environ[\"PATH\"] = os.pathsep + os.environ[\"PATH\"] + os.pathsep + default_binpath\n",
    "\n",
    "build_dir = \"../../build/bin\"\n",
    "\n",
    "sys.path.insert(0, build_dir + \"/ShapeWorksStudio.app/Contents/MacOS\")\n",
    "sys.path.insert(0, build_dir)\n",
    "\n",
    "# paths for subprocesses (or could pass as env to each one)\n",
    "if platform.system() == \"Darwin\":\n",
    "    items = build_dir.split(os.pathsep)\n",
    "    build_dir = \"\"\n",
    "    for item in items:\n",
    "        build_dir = build_dir + os.pathsep + item \\\n",
    "            + os.pathsep + item + \"/ShapeWorksStudio.app/Contents/MacOS\"\n",
    "os.environ[\"PATH\"] = build_dir + os.pathsep + os.environ[\"PATH\"]"
   ]
  },
  {
   "cell_type": "code",
   "execution_count": 8,
   "metadata": {},
   "outputs": [
    {
     "ename": "ImportError",
     "evalue": "AttributeError: Coord",
     "output_type": "error",
     "traceback": [
      "\u001b[0;31m---------------------------------------------------------------------------\u001b[0m",
      "\u001b[0;31mImportError\u001b[0m                               Traceback (most recent call last)",
      "\u001b[0;32m<ipython-input-8-a35aca367a9e>\u001b[0m in \u001b[0;36m<module>\u001b[0;34m\u001b[0m\n\u001b[0;32m----> 1\u001b[0;31m \u001b[0;32mimport\u001b[0m \u001b[0mshapeworks\u001b[0m\u001b[0;34m\u001b[0m\u001b[0;34m\u001b[0m\u001b[0m\n\u001b[0m",
      "\u001b[0;31mImportError\u001b[0m: AttributeError: Coord"
     ]
    }
   ],
   "source": [
    "import shapeworks"
   ]
  },
  {
   "cell_type": "code",
   "execution_count": null,
   "metadata": {},
   "outputs": [],
   "source": [
    "import itk\n",
    "from itkwidgets import view\n",
    "\n",
    "# img = Image(\"/Users/archanasrisubramanian/code/ShapeWorks/build/images/snrrd\")\n",
    "readimg = itk.imread(\"/Users/archanasrisubramanian/code/ShapeWorks/build/images/seg.ellipsoid_1.nrrd\")\n",
    "view(readimg)"
   ]
  },
  {
   "cell_type": "code",
   "execution_count": null,
   "metadata": {},
   "outputs": [],
   "source": [
    "img = Image(\"/Users/archanasrisubramanian/code/ShapeWorks/build/images/seg.ellipsoid_1.nrrd\")"
   ]
  },
  {
   "cell_type": "code",
   "execution_count": null,
   "metadata": {},
   "outputs": [],
   "source": [
    "ImageUtils.isoresample(img, 1.0)"
   ]
  },
  {
   "cell_type": "code",
   "execution_count": null,
   "metadata": {},
   "outputs": [],
   "source": [
    "img.pad(10, 0)"
   ]
  },
  {
   "cell_type": "code",
   "execution_count": null,
   "metadata": {},
   "outputs": [],
   "source": []
  },
  {
   "cell_type": "code",
   "execution_count": null,
   "metadata": {},
   "outputs": [],
   "source": []
  },
  {
   "cell_type": "code",
   "execution_count": null,
   "metadata": {},
   "outputs": [],
   "source": [
    "img.applySigmoidFilter().applyGradientFilter()"
   ]
  },
  {
   "cell_type": "code",
   "execution_count": null,
   "metadata": {},
   "outputs": [],
   "source": [
    "img.write(\"/Users/archanasrisubramanian/code/ShapeWorks/build/images/out.nrrd\")"
   ]
  },
  {
   "cell_type": "code",
   "execution_count": null,
   "metadata": {},
   "outputs": [],
   "source": [
    "import itk\n",
    "from itkwidgets import view\n",
    "\n",
    "filename = \"/Users/archanasrisubramanian/code/ShapeWorks/build/images/out.nrrd\"\n",
    "readimg = itk.imread(filename)\n",
    "view(readimg)"
   ]
  },
  {
   "cell_type": "code",
   "execution_count": null,
   "metadata": {},
   "outputs": [],
   "source": []
  }
 ],
 "metadata": {
  "kernelspec": {
   "display_name": "Python 3",
   "language": "python",
   "name": "python3"
  },
  "language_info": {
   "codemirror_mode": {
    "name": "ipython",
    "version": 3
   },
   "file_extension": ".py",
   "mimetype": "text/x-python",
   "name": "python",
   "nbconvert_exporter": "python",
   "pygments_lexer": "ipython3",
   "version": "3.7.6"
  }
 },
 "nbformat": 4,
 "nbformat_minor": 4
}
