{
 "cells": [
  {
   "cell_type": "code",
   "execution_count": 1,
   "metadata": {},
   "outputs": [],
   "source": [
    "import sys\n",
    "import numpy as np\n",
    "import io\n",
    "import glob\n",
    "import os\n",
    "import subprocess\n",
    "import shutil\n",
    "import xml.etree.ElementTree as ET\n",
    "import platform\n",
    "\n",
    "build_dir = \"../../build/bin\"\n",
    "\n",
    "sys.path.insert(0, build_dir + \"/ShapeWorksStudio.app/Contents/MacOS\")\n",
    "sys.path.insert(0, build_dir)\n",
    "\n",
    "# paths for subprocesses (or could pass as env to each one)\n",
    "if platform.system() == \"Darwin\":\n",
    "    items = build_dir.split(os.pathsep)\n",
    "    build_dir = \"\"\n",
    "    for item in items:\n",
    "        build_dir = build_dir + os.pathsep + item \\\n",
    "            + os.pathsep + item + \"/ShapeWorksStudio.app/Contents/MacOS\"\n",
    "os.environ[\"PATH\"] = build_dir + os.pathsep + os.environ[\"PATH\"]"
   ]
  },
  {
   "cell_type": "code",
   "execution_count": null,
   "metadata": {},
   "outputs": [],
   "source": [
    "import itk\n",
    "from itkwidgets import view"
   ]
  },
  {
   "cell_type": "code",
   "execution_count": 2,
   "metadata": {},
   "outputs": [],
   "source": [
    "from shapeworks import *"
   ]
  },
  {
   "cell_type": "code",
   "execution_count": 1,
   "metadata": {},
   "outputs": [
    {
     "data": {
      "application/vnd.jupyter.widget-view+json": {
       "model_id": "02c0c67e358e4806bf5672c6b2058dbe",
       "version_major": 2,
       "version_minor": 0
      },
      "text/plain": [
       "Viewer(geometries=[], gradient_opacity=0.22, point_sets=[], rendered_image=<itkImagePython.itkImageD3; proxy o…"
      ]
     },
     "metadata": {},
     "output_type": "display_data"
    }
   ],
   "source": [
    "import itk\n",
    "from itkwidgets import view\n",
    "\n",
    "# img = Image(\"/Users/archanasrisubramanian/code/ShapeWorks/build/images/snrrd\")\n",
    "readimg = itk.imread(\"/Users/archanasrisubramanian/code/ShapeWorks/build/images/seg.ellipsoid_1.nrrd\")\n",
    "view(readimg)"
   ]
  },
  {
   "cell_type": "code",
   "execution_count": 4,
   "metadata": {},
   "outputs": [
    {
     "data": {
      "text/plain": [
       "<shapeworks.Image at 0x113a79df0>"
      ]
     },
     "execution_count": 4,
     "metadata": {},
     "output_type": "execute_result"
    }
   ],
   "source": [
    "ImageUtils.isoresample(img, 1.0)"
   ]
  },
  {
   "cell_type": "code",
   "execution_count": 5,
   "metadata": {},
   "outputs": [
    {
     "data": {
      "text/plain": [
       "<shapeworks.Image at 0x113a79df0>"
      ]
     },
     "execution_count": 5,
     "metadata": {},
     "output_type": "execute_result"
    }
   ],
   "source": [
    "img.pad(10, 0)"
   ]
  },
  {
   "cell_type": "code",
   "execution_count": null,
   "metadata": {},
   "outputs": [],
   "source": []
  },
  {
   "cell_type": "code",
   "execution_count": null,
   "metadata": {},
   "outputs": [],
   "source": []
  },
  {
   "cell_type": "code",
   "execution_count": 6,
   "metadata": {},
   "outputs": [
    {
     "data": {
      "text/plain": [
       "<shapeworks.Image at 0x113a79df0>"
      ]
     },
     "execution_count": 6,
     "metadata": {},
     "output_type": "execute_result"
    }
   ],
   "source": [
    "img.applySigmoidFilter().applyGradientFilter()"
   ]
  },
  {
   "cell_type": "code",
   "execution_count": 7,
   "metadata": {},
   "outputs": [
    {
     "data": {
      "text/plain": [
       "<shapeworks.Image at 0x113a79df0>"
      ]
     },
     "execution_count": 7,
     "metadata": {},
     "output_type": "execute_result"
    }
   ],
   "source": [
    "img.write(\"/Users/archanasrisubramanian/code/ShapeWorks/build/images/out.nrrd\")"
   ]
  },
  {
   "cell_type": "code",
   "execution_count": null,
   "metadata": {},
   "outputs": [],
   "source": [
    "import itk\n",
    "from itkwidgets import view\n",
    "\n",
    "filename = \"/Users/archanasrisubramanian/code/ShapeWorks/build/images/out.nrrd\"\n",
    "readimg = itk.imread(filename)\n",
    "view(readimg)"
   ]
  },
  {
   "cell_type": "code",
   "execution_count": null,
   "metadata": {},
   "outputs": [],
   "source": []
  }
 ],
 "metadata": {
  "kernelspec": {
   "display_name": "Python 3",
   "language": "python",
   "name": "python3"
  },
  "language_info": {
   "codemirror_mode": {
    "name": "ipython",
    "version": 3
   },
   "file_extension": ".py",
   "mimetype": "text/x-python",
   "name": "python",
   "nbconvert_exporter": "python",
   "pygments_lexer": "ipython3",
   "version": "3.7.6"
  }
 },
 "nbformat": 4,
 "nbformat_minor": 4
}
