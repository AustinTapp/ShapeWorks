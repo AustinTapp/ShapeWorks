{
 "cells": [
  {
   "cell_type": "code",
   "execution_count": 1,
   "metadata": {},
   "outputs": [],
   "source": [
    "import sys\n",
    "import numpy as np\n",
    "import io\n",
    "import glob\n",
    "import os\n",
    "import subprocess\n",
    "import shutil\n",
    "import xml.etree.ElementTree as ET\n",
    "import platform\n",
    "\n",
    "build_dir = \"../../build/bin\"\n",
    "\n",
    "sys.path.insert(0, build_dir + \"/ShapeWorksStudio.app/Contents/MacOS\")\n",
    "sys.path.insert(0, build_dir)\n",
    "\n",
    "# paths for subprocesses (or could pass as env to each one)\n",
    "if platform.system() == \"Darwin\":\n",
    "    items = build_dir.split(os.pathsep)\n",
    "    build_dir = \"\"\n",
    "    for item in items:\n",
    "        build_dir = build_dir + os.pathsep + item \\\n",
    "            + os.pathsep + item + \"/ShapeWorksStudio.app/Contents/MacOS\"\n",
    "os.environ[\"PATH\"] = build_dir + os.pathsep + os.environ[\"PATH\"]"
   ]
  },
  {
   "cell_type": "code",
   "execution_count": 2,
   "metadata": {},
   "outputs": [],
   "source": [
    "from shapeworks import *"
   ]
  },
  {
   "cell_type": "code",
   "execution_count": null,
   "metadata": {},
   "outputs": [],
   "source": [
    "import itk\n",
    "from itkwidgets import view\n",
    "\n",
    "# img = Image(\"/Users/archanasrisubramanian/code/ShapeWorks/build/images/snrrd\")\n",
    "readimg = itk.imread(\"/Users/archanasrisubramanian/code/ShapeWorks/build/images/seg.ellipsoid_1.nrrd\")\n",
    "view(readimg)"
   ]
  },
  {
   "cell_type": "code",
   "execution_count": 3,
   "metadata": {},
   "outputs": [
    {
     "ename": "ValueError",
     "evalue": "/Users/archanasrisubramanian/code/ShapeWorks/build/images/seg.ellipsoid_1.nrrd does not exist (/Users/archanasrisubramanian/code/ShapeWorks/dependencies/install/include/ITK-5.0/itkImageFileReader.hxx:136:\n Could not create IO object for reading file /Users/archanasrisubramanian/code/ShapeWorks/build/images/seg.ellipsoid_1.nrrd\nThe file doesn't exist. \nFilename = /Users/archanasrisubramanian/code/ShapeWorks/build/images/seg.ellipsoid_1.nrrd\n)",
     "output_type": "error",
     "traceback": [
      "\u001b[0;31m---------------------------------------------------------------------------\u001b[0m",
      "\u001b[0;31mValueError\u001b[0m                                Traceback (most recent call last)",
      "\u001b[0;32m<ipython-input-3-b71b579ab14a>\u001b[0m in \u001b[0;36m<module>\u001b[0;34m\u001b[0m\n\u001b[0;32m----> 1\u001b[0;31m \u001b[0mimg\u001b[0m \u001b[0;34m=\u001b[0m \u001b[0mImage\u001b[0m\u001b[0;34m(\u001b[0m\u001b[0;34m\"/Users/archanasrisubramanian/code/ShapeWorks/build/images/seg.ellipsoid_1.nrrd\"\u001b[0m\u001b[0;34m)\u001b[0m\u001b[0;34m\u001b[0m\u001b[0;34m\u001b[0m\u001b[0m\n\u001b[0m",
      "\u001b[0;31mValueError\u001b[0m: /Users/archanasrisubramanian/code/ShapeWorks/build/images/seg.ellipsoid_1.nrrd does not exist (/Users/archanasrisubramanian/code/ShapeWorks/dependencies/install/include/ITK-5.0/itkImageFileReader.hxx:136:\n Could not create IO object for reading file /Users/archanasrisubramanian/code/ShapeWorks/build/images/seg.ellipsoid_1.nrrd\nThe file doesn't exist. \nFilename = /Users/archanasrisubramanian/code/ShapeWorks/build/images/seg.ellipsoid_1.nrrd\n)"
     ]
    }
   ],
   "source": [
    "img = Image(\"/Users/archanasrisubramanian/code/ShapeWorks/build/images/seg.ellipsoid_1.nrrd\")"
   ]
  },
  {
   "cell_type": "code",
   "execution_count": null,
   "metadata": {},
   "outputs": [],
   "source": [
    "ImageUtils.isoresample(img, 1.0)"
   ]
  },
  {
   "cell_type": "code",
   "execution_count": null,
   "metadata": {},
   "outputs": [],
   "source": [
    "img.pad(10, 0)"
   ]
  },
  {
   "cell_type": "code",
   "execution_count": null,
   "metadata": {},
   "outputs": [],
   "source": []
  },
  {
   "cell_type": "code",
   "execution_count": null,
   "metadata": {},
   "outputs": [],
   "source": []
  },
  {
   "cell_type": "code",
   "execution_count": null,
   "metadata": {},
   "outputs": [],
   "source": [
    "img.applySigmoidFilter().applyGradientFilter()"
   ]
  },
  {
   "cell_type": "code",
   "execution_count": null,
   "metadata": {},
   "outputs": [],
   "source": [
    "img.write(\"/Users/archanasrisubramanian/code/ShapeWorks/build/images/out.nrrd\")"
   ]
  },
  {
   "cell_type": "code",
   "execution_count": null,
   "metadata": {},
   "outputs": [],
   "source": [
    "import itk\n",
    "from itkwidgets import view\n",
    "\n",
    "filename = \"/Users/archanasrisubramanian/code/ShapeWorks/build/images/out.nrrd\"\n",
    "readimg = itk.imread(filename)\n",
    "view(readimg)"
   ]
  },
  {
   "cell_type": "code",
   "execution_count": null,
   "metadata": {},
   "outputs": [],
   "source": []
  }
 ],
 "metadata": {
  "kernelspec": {
   "display_name": "Python 3",
   "language": "python",
   "name": "python3"
  },
  "language_info": {
   "codemirror_mode": {
    "name": "ipython",
    "version": 3
   },
   "file_extension": ".py",
   "mimetype": "text/x-python",
   "name": "python",
   "nbconvert_exporter": "python",
   "pygments_lexer": "ipython3",
   "version": "3.7.6"
  }
 },
 "nbformat": 4,
 "nbformat_minor": 4
}
